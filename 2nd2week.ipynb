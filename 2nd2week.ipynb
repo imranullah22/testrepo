{
 "cells": [
  {
   "cell_type": "markdown",
   "metadata": {},
   "source": [
    "# list"
   ]
  },
  {
   "cell_type": "code",
   "execution_count": 1,
   "metadata": {},
   "outputs": [
    {
     "name": "stdout",
     "output_type": "stream",
     "text": [
      "<class 'list'>\n",
      "['apple', 'mango', 'oranges']\n"
     ]
    }
   ],
   "source": [
    "fruits = [\"apple\",\"mango\",\"oranges\"]\n",
    "print(type(fruits))\n",
    "print(fruits)"
   ]
  },
  {
   "cell_type": "code",
   "execution_count": 2,
   "metadata": {},
   "outputs": [
    {
     "name": "stdout",
     "output_type": "stream",
     "text": [
      "7\n",
      "[1, 2, 3, 4, 5, 6, 8]\n"
     ]
    }
   ],
   "source": [
    "num=[1,2,3,4,5,6,8]\n",
    "print(len(num))\n",
    "print(num)"
   ]
  },
  {
   "cell_type": "code",
   "execution_count": 3,
   "metadata": {},
   "outputs": [
    {
     "data": {
      "text/plain": [
       "['apple', 'mango', 'oranges', 1, 2, 3, 4, 5, 6, 8]"
      ]
     },
     "execution_count": 3,
     "metadata": {},
     "output_type": "execute_result"
    }
   ],
   "source": [
    "num=[1,2,3,4,5,6,8]\n",
    "b=fruits+num\n",
    "b"
   ]
  },
  {
   "cell_type": "code",
   "execution_count": 4,
   "metadata": {},
   "outputs": [
    {
     "name": "stdout",
     "output_type": "stream",
     "text": [
      "['apple', 'mango', 'oranges', 'banana', 'tomato']\n",
      "['apple', 'mango', 'oranges', 'banana', 'tomato', 'cherry']\n",
      "['apple', 'mango', 'oranges', 'banana', 'cherry']\n"
     ]
    }
   ],
   "source": [
    "fruits=[\"apple\",\"mango\",\"oranges\",\"banana\",\"tomato\"]\n",
    "print(fruits)\n",
    "fruits.append(\"cherry\")\n",
    "print(fruits)\n",
    "fruits.remove(\"tomato\")\n",
    "print(fruits)"
   ]
  },
  {
   "cell_type": "code",
   "execution_count": 5,
   "metadata": {},
   "outputs": [
    {
     "name": "stdout",
     "output_type": "stream",
     "text": [
      "[0, 2, 4, 6, 8, 10, 12, 14, 16, 18, 20, 22, 24, 26, 28, 30, 32, 34, 36, 38, 40, 42, 44, 46, 48]\n",
      "25\n",
      "0\n",
      "48\n"
     ]
    }
   ],
   "source": [
    "num=list(range(0,50,2))\n",
    "print(num)\n",
    "print(len(num))\n",
    "print(min(num))\n",
    "print(max(num))"
   ]
  },
  {
   "cell_type": "code",
   "execution_count": 6,
   "metadata": {},
   "outputs": [
    {
     "name": "stdout",
     "output_type": "stream",
     "text": [
      "[13, 'two', 'fife', 23]\n"
     ]
    }
   ],
   "source": [
    "mixed=[13,\"two\",\"fife\",23]\n",
    "print(mixed)"
   ]
  },
  {
   "cell_type": "markdown",
   "metadata": {},
   "source": [
    "# dictionary"
   ]
  },
  {
   "cell_type": "code",
   "execution_count": 7,
   "metadata": {},
   "outputs": [
    {
     "name": "stdout",
     "output_type": "stream",
     "text": [
      "{'m': 'mango', 'a': 'apple', 's': 'screen', 'f': 'four'}\n"
     ]
    }
   ],
   "source": [
    "dic={\"m\":\"mango\",\"a\":\"apple\",\"s\":\"screen\",\"f\":\"four\"}\n",
    "print(dic)"
   ]
  },
  {
   "cell_type": "code",
   "execution_count": 8,
   "metadata": {},
   "outputs": [
    {
     "name": "stdout",
     "output_type": "stream",
     "text": [
      "7\n",
      "<class 'dict'>\n",
      "{'monday': 'peer', 'tuesday': 'mangal', 'wednesday': 'budd', 'thursday': 'zeyarat', 'friday': 'jumma', 'saturday': 'hafta', 'sunday': 'itwar'}\n"
     ]
    }
   ],
   "source": [
    "week= {\"monday\":\"peer\",\"tuesday\":\"mangal\",\"wednesday\":\"budd\",\n",
    "       \"thursday\":\"zeyarat\",\"friday\":\"jumma\",\"saturday\":\"hafta\",\"sunday\":\"itwar\"}\n",
    "t=print(len(week))\n",
    "print(type(week))\n",
    "print(week)"
   ]
  },
  {
   "cell_type": "code",
   "execution_count": 9,
   "metadata": {},
   "outputs": [
    {
     "name": "stdout",
     "output_type": "stream",
     "text": [
      "zeyarat\n"
     ]
    }
   ],
   "source": [
    "print(week[\"thursday\"])"
   ]
  },
  {
   "cell_type": "code",
   "execution_count": 4,
   "metadata": {},
   "outputs": [
    {
     "name": "stdout",
     "output_type": "stream",
     "text": [
      "itwar\n"
     ]
    }
   ],
   "source": [
    "print(week[\"sunday\"])"
   ]
  },
  {
   "cell_type": "code",
   "execution_count": 5,
   "metadata": {},
   "outputs": [
    {
     "data": {
      "text/plain": [
       "{'monday': 'peer',\n",
       " 'tuesday': 'mangal',\n",
       " 'wednesday': 'budd',\n",
       " 'thursday': 'zeyarat',\n",
       " 'friday': 'jumma',\n",
       " 'saturday': 'hafta',\n",
       " 'sunday': 'Itwaar'}"
      ]
     },
     "execution_count": 5,
     "metadata": {},
     "output_type": "execute_result"
    }
   ],
   "source": [
    "week.update({\"sunday\":\"Itwaar\"})\n",
    "week"
   ]
  },
  {
   "cell_type": "code",
   "execution_count": 9,
   "metadata": {},
   "outputs": [
    {
     "name": "stdout",
     "output_type": "stream",
     "text": [
      "{'monday': 'peer', 'tuesday': 'mangal', 'wednesday': 'third day of week', 'thursday': 'zeyarat', 'friday': 'jumma', 'saturday': 'hafta', 'sunday': 'itwar'}\n"
     ]
    }
   ],
   "source": [
    "week.update({\"wednesday\":\"third day of week\"})\n",
    "print(week)\n",
    "\n"
   ]
  },
  {
   "cell_type": "code",
   "execution_count": 13,
   "metadata": {},
   "outputs": [
    {
     "name": "stdout",
     "output_type": "stream",
     "text": [
      "{'tuesday', 'sunday', 'monday', 'thursday', 'saturday', 'wednesday', 'friday'}\n",
      "<class 'set'>\n"
     ]
    }
   ],
   "source": [
    "x={\"monday\":\"peer\",\"tuesday\":\"mangal\",\"wednesday\":\"budd\",\n",
    "   \"thursday\":\"zeyarat\",\"friday\":\"jumma\",\"saturday\":\"hafta\",\"sunday\":\"itwar\"}\n",
    "x=set(x)\n",
    "print(x)\n",
    "print(type(x))\n",
    "\n"
   ]
  },
  {
   "cell_type": "code",
   "execution_count": 17,
   "metadata": {},
   "outputs": [],
   "source": [
    "def smple1(a,b):   \n",
    "    for i in a:\n",
    "        if i not in b:\n",
    "            b.append(i)\n",
    "    return b"
   ]
  },
  {
   "cell_type": "code",
   "execution_count": 18,
   "metadata": {},
   "outputs": [
    {
     "data": {
      "text/plain": [
       "[3, 2, 5, 6, 7, 4, 8]"
      ]
     },
     "execution_count": 18,
     "metadata": {},
     "output_type": "execute_result"
    }
   ],
   "source": [
    "smple1([3,2,2,5,3,6,7,4,5,8],[])"
   ]
  },
  {
   "cell_type": "code",
   "execution_count": 26,
   "metadata": {},
   "outputs": [],
   "source": [
    "def smple1(a):\n",
    "    b=[]\n",
    "    for i in a:\n",
    "        if i not in b:\n",
    "            b.append(i)\n",
    "    return b"
   ]
  },
  {
   "cell_type": "code",
   "execution_count": 27,
   "metadata": {},
   "outputs": [
    {
     "data": {
      "text/plain": [
       "[3, 2, 5, 6, 7, 4, 8]"
      ]
     },
     "execution_count": 27,
     "metadata": {},
     "output_type": "execute_result"
    }
   ],
   "source": [
    "a=[3,2,2,5,3,6,7,4,5,8]\n",
    "smple1(a)"
   ]
  },
  {
   "cell_type": "code",
   "execution_count": 19,
   "metadata": {},
   "outputs": [
    {
     "name": "stdout",
     "output_type": "stream",
     "text": [
      "[2, 3, 4, 5, 6, 7, 8]\n"
     ]
    }
   ],
   "source": [
    "print(list(set([3,2,2,5,3,6,7,4,5,8])))"
   ]
  },
  {
   "cell_type": "code",
   "execution_count": 20,
   "metadata": {},
   "outputs": [
    {
     "name": "stdout",
     "output_type": "stream",
     "text": [
      "python\n"
     ]
    }
   ],
   "source": [
    "a =['p','y','t','h','o','n']\n",
    "b = \"\"\n",
    "for x in a:\n",
    "    b=b + x\n",
    "print(b)"
   ]
  },
  {
   "cell_type": "code",
   "execution_count": 22,
   "metadata": {},
   "outputs": [],
   "source": [
    "def freq(x):\n",
    "    count = 0\n",
    "    for i in a:\n",
    "        if x==i:\n",
    "            count =count +1\n",
    "    return count"
   ]
  },
  {
   "cell_type": "code",
   "execution_count": 23,
   "metadata": {},
   "outputs": [
    {
     "data": {
      "text/plain": [
       "6"
      ]
     },
     "execution_count": 23,
     "metadata": {},
     "output_type": "execute_result"
    }
   ],
   "source": [
    "a=[3,2,2,5,3,6,7,4,5,8,9,3,1,2,5,4,3,3,3]\n",
    "freq(3)"
   ]
  },
  {
   "cell_type": "code",
   "execution_count": 10,
   "metadata": {},
   "outputs": [
    {
     "name": "stdout",
     "output_type": "stream",
     "text": [
      "[18, 17, 16, 15, 14, 13, 12, 11, 10, 9, 8, 7, 6, 5, 4, 3, 2, 1, 0]\n"
     ]
    }
   ],
   "source": [
    "a=[3,2,2,5,3,6,7,4,5,8,9,3,1,2,5,4,3,3,3]\n",
    "b=[]\n",
    "c=len(a) - 1\n",
    "while c >= 0:\n",
    "    b.append(c)\n",
    "    c = c - 1\n",
    "print(b)"
   ]
  },
  {
   "cell_type": "code",
   "execution_count": 22,
   "metadata": {},
   "outputs": [
    {
     "name": "stdout",
     "output_type": "stream",
     "text": [
      "[18, 17, 16, 15, 14, 13, 12, 11, 10, 9, 8, 7, 6, 5, 4, 3, 2, 1, 0]\n"
     ]
    }
   ],
   "source": [
    "a=[3,2,2,5,3,6,7,4,5,8,9,3,1,2,5,4,3,3,3]\n",
    "b=[]\n",
    "c=len(a)-1\n",
    "while c >= 0:\n",
    "    b.append(c)\n",
    "    c = c - 1\n",
    "print(b)"
   ]
  },
  {
   "cell_type": "code",
   "execution_count": 9,
   "metadata": {},
   "outputs": [
    {
     "name": "stdout",
     "output_type": "stream",
     "text": [
      "[3, 2, 2, 5, 3, 6, 7, 4, 5, 8, 9, 3, 1, 2, 5, 4, 3, 3, 3]\n",
      "[3, 3, 3, 4, 5, 2, 1, 3, 9, 8, 5, 4, 7, 6, 3, 5, 2, 2, 3]\n"
     ]
    }
   ],
   "source": [
    "z=[3,2,2,5,3,6,7,4,5,8,9,3,1,2,5,4,3,3,3]\n",
    "print(z)\n",
    "z.reverse()\n",
    "print(z)"
   ]
  },
  {
   "cell_type": "code",
   "execution_count": 10,
   "metadata": {},
   "outputs": [
    {
     "name": "stdout",
     "output_type": "stream",
     "text": [
      "[125, 64, 27, 8, 27]\n"
     ]
    }
   ],
   "source": [
    "s =[5,4,3,2,3]\n",
    "t=[]\n",
    "for i in s:\n",
    "    t.append(i**3)  \n",
    "print(t)"
   ]
  },
  {
   "cell_type": "code",
   "execution_count": 11,
   "metadata": {},
   "outputs": [
    {
     "name": "stdout",
     "output_type": "stream",
     "text": [
      "[9, 16, 4, 25, 36]\n"
     ]
    }
   ],
   "source": [
    "a=[3,4,2,5,6]\n",
    "b=[]\n",
    "for i in a:\n",
    "    b.append(i**2)\n",
    "print(b)    "
   ]
  },
  {
   "cell_type": "code",
   "execution_count": 20,
   "metadata": {
    "scrolled": true
   },
   "outputs": [
    {
     "name": "stdout",
     "output_type": "stream",
     "text": [
      "[243, 32, 32, 3125, 243, 7776, 16807, 1024, 3125, 32768, 59049, 243, 1, 32, 3125, 1024, 243, 243, 243]\n"
     ]
    }
   ],
   "source": [
    "f=[3, 2, 2, 5, 3, 6, 7, 4, 5, 8, 9, 3, 1, 2, 5, 4, 3, 3, 3]\n",
    "g=[]\n",
    "for i in f:\n",
    "    g.append(i**5 )   \n",
    "print(g) "
   ]
  },
  {
   "cell_type": "code",
   "execution_count": 21,
   "metadata": {},
   "outputs": [],
   "source": [
    "def sq(h,j):\n",
    "    for i in h:\n",
    "        j.append(i**2)\n",
    "    return j"
   ]
  },
  {
   "cell_type": "code",
   "execution_count": 22,
   "metadata": {},
   "outputs": [
    {
     "data": {
      "text/plain": [
       "[9, 1, 4, 25, 16, 9]"
      ]
     },
     "execution_count": 22,
     "metadata": {},
     "output_type": "execute_result"
    }
   ],
   "source": [
    "j = []\n",
    "sq([3, 1, 2, 5, 4, 3],j)"
   ]
  },
  {
   "cell_type": "code",
   "execution_count": 14,
   "metadata": {},
   "outputs": [
    {
     "name": "stdout",
     "output_type": "stream",
     "text": [
      "3\n",
      "12\n",
      "60\n",
      "120\n",
      "480\n"
     ]
    }
   ],
   "source": [
    "c= [3,4,5,2,4]\n",
    "sum=1\n",
    "for i in c:\n",
    "    sum=sum*i\n",
    "    print(sum)"
   ]
  },
  {
   "cell_type": "code",
   "execution_count": 25,
   "metadata": {},
   "outputs": [],
   "source": [
    "def lvalue(d):   \n",
    "    for i in d:\n",
    "        i=max(d)  \n",
    "    return(i)"
   ]
  },
  {
   "cell_type": "code",
   "execution_count": 26,
   "metadata": {},
   "outputs": [
    {
     "data": {
      "text/plain": [
       "19"
      ]
     },
     "execution_count": 26,
     "metadata": {},
     "output_type": "execute_result"
    }
   ],
   "source": [
    "lvalue([3,11,6,7,8,4,2,1,5,9,12,13,14,1,19,0])"
   ]
  },
  {
   "cell_type": "code",
   "execution_count": 23,
   "metadata": {},
   "outputs": [
    {
     "data": {
      "text/plain": [
       "[121,\n",
       " 108,\n",
       " 184,\n",
       " 68,\n",
       " 137,\n",
       " 91,\n",
       " 14,\n",
       " 119,\n",
       " 83,\n",
       " 48,\n",
       " 180,\n",
       " 47,\n",
       " 104,\n",
       " 155,\n",
       " 149,\n",
       " 103,\n",
       " 37,\n",
       " 20,\n",
       " 99,\n",
       " 130,\n",
       " 190,\n",
       " 179,\n",
       " 78,\n",
       " 7,\n",
       " 176,\n",
       " 69,\n",
       " 131,\n",
       " 15,\n",
       " 33,\n",
       " 49,\n",
       " 53,\n",
       " 45,\n",
       " 101,\n",
       " 35,\n",
       " 72,\n",
       " 129,\n",
       " 10,\n",
       " 170,\n",
       " 134,\n",
       " 2,\n",
       " 174,\n",
       " 63,\n",
       " 52,\n",
       " 44,\n",
       " 151,\n",
       " 95,\n",
       " 100,\n",
       " 122,\n",
       " 154,\n",
       " 11,\n",
       " 98,\n",
       " 17,\n",
       " 164,\n",
       " 9,\n",
       " 87,\n",
       " 128,\n",
       " 175,\n",
       " 109,\n",
       " 56,\n",
       " 3,\n",
       " 71,\n",
       " 148,\n",
       " 106,\n",
       " 16,\n",
       " 185,\n",
       " 187,\n",
       " 79,\n",
       " 97,\n",
       " 183,\n",
       " 133,\n",
       " 191,\n",
       " 34,\n",
       " 64,\n",
       " 145,\n",
       " 74,\n",
       " 12,\n",
       " 43,\n",
       " 73,\n",
       " 166,\n",
       " 169]"
      ]
     },
     "execution_count": 23,
     "metadata": {},
     "output_type": "execute_result"
    }
   ],
   "source": [
    "import random\n",
    "e=random.sample(range(0,200),(80))\n",
    "e"
   ]
  },
  {
   "cell_type": "code",
   "execution_count": 25,
   "metadata": {},
   "outputs": [],
   "source": [
    "def lvalue(e):\n",
    "    ln=e[0]\n",
    "    for i in e:\n",
    "        if i>ln:\n",
    "            ln=i\n",
    "    return ln"
   ]
  },
  {
   "cell_type": "code",
   "execution_count": 26,
   "metadata": {},
   "outputs": [
    {
     "data": {
      "text/plain": [
       "191"
      ]
     },
     "execution_count": 26,
     "metadata": {},
     "output_type": "execute_result"
    }
   ],
   "source": [
    "lvalue(e)"
   ]
  },
  {
   "cell_type": "code",
   "execution_count": 27,
   "metadata": {},
   "outputs": [],
   "source": [
    "def svalue(e):\n",
    "    ln=e[0]\n",
    "    for i in e:\n",
    "        if(i<ln):\n",
    "            ln=i\n",
    "    return ln        "
   ]
  },
  {
   "cell_type": "code",
   "execution_count": 28,
   "metadata": {},
   "outputs": [
    {
     "data": {
      "text/plain": [
       "2"
      ]
     },
     "execution_count": 28,
     "metadata": {},
     "output_type": "execute_result"
    }
   ],
   "source": [
    "svalue(e)"
   ]
  },
  {
   "cell_type": "code",
   "execution_count": 136,
   "metadata": {},
   "outputs": [
    {
     "name": "stdout",
     "output_type": "stream",
     "text": [
      "*\n",
      "**\n",
      "***\n",
      "****\n",
      "*****\n"
     ]
    }
   ],
   "source": [
    "num=5\n",
    "for i in range(1,num+1):\n",
    "    str=\"\"\n",
    "    for j in range(i):\n",
    "        str=str+\"*\"\n",
    "    print(str)    "
   ]
  },
  {
   "cell_type": "code",
   "execution_count": 141,
   "metadata": {},
   "outputs": [
    {
     "name": "stdout",
     "output_type": "stream",
     "text": [
      "    *\n",
      "   **\n",
      "  ***\n",
      " ****\n",
      "*****\n"
     ]
    }
   ],
   "source": [
    "num=5\n",
    "for i in range(1,num+1):\n",
    "    str=\"\"\n",
    "    for j in range(num-i):\n",
    "        str=str+\" \"\n",
    "    for k in range(i):\n",
    "        str=str+\"*\"\n",
    "    print(str)    \n",
    "    "
   ]
  },
  {
   "cell_type": "code",
   "execution_count": 142,
   "metadata": {},
   "outputs": [
    {
     "name": "stdout",
     "output_type": "stream",
     "text": [
      "     *\n",
      "    * *\n",
      "   * * *\n",
      "  * * * *\n",
      " * * * * *\n"
     ]
    }
   ],
   "source": [
    "num=5\n",
    "for i in range(1,num+1):\n",
    "    str=\"\"\n",
    "    for j in range(num-i):\n",
    "        str=str+\" \"\n",
    "    for k in range(i):\n",
    "        str=str+\" *\"\n",
    "    print(str)\n",
    "        "
   ]
  },
  {
   "cell_type": "code",
   "execution_count": null,
   "metadata": {},
   "outputs": [],
   "source": []
  }
 ],
 "metadata": {
  "kernelspec": {
   "display_name": "Python 3",
   "language": "python",
   "name": "python3"
  },
  "language_info": {
   "codemirror_mode": {
    "name": "ipython",
    "version": 3
   },
   "file_extension": ".py",
   "mimetype": "text/x-python",
   "name": "python",
   "nbconvert_exporter": "python",
   "pygments_lexer": "ipython3",
   "version": "3.7.4"
  }
 },
 "nbformat": 4,
 "nbformat_minor": 2
}
