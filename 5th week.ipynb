{
 "cells": [
  {
   "cell_type": "markdown",
   "metadata": {},
   "source": [
    "# bankaccount"
   ]
  },
  {
   "cell_type": "code",
   "execution_count": null,
   "metadata": {},
   "outputs": [],
   "source": [
    "class BankAccount:\n",
    "    def __init__(self):\n",
    "        self.name=\"\"\n",
    "        self.__accountNumber=0\n",
    "        self.__pinCode=0\n",
    "        self.__balance=0.0\n",
    "    def set_name(self,n):\n",
    "        self.name=n\n",
    "    def  get_name(self):\n",
    "        return self.name\n",
    "    def set_accountNumber(self,a):\n",
    "        self.__accountNumber=a\n",
    "    def  get_accountNumber(self):\n",
    "        return self.__accountNumber\n",
    "    def set_pinCode(self,p):\n",
    "        self.__pinCode=p\n",
    "    def  get_pinCode(self):\n",
    "        return self.__pinCode\n",
    "    def set_balance(self,b):\n",
    "        self.__balance=b\n",
    "    def  get_balance(self):\n",
    "        return self.__balance\n",
    "    def display(self,accountNumber,pinCode):\n",
    "        if(self.__accountNumber==accountNumber and self.__pinCode==pinCode):\n",
    "            print(\"Bank account no \",self.__accountNumber)\n",
    "            print(\"Name :\",self.name)\n",
    "            print(\"Balance : \",self.__balance)\n",
    "        else:\n",
    "            print(\"wrong pinCode and deposit failed\")\n",
    "    def deposite(self,accountNumber,pinCode,amount):\n",
    "        if(self.__accountNumber==accountNumber and self.__pinCode==pinCode):\n",
    "            self.__balance=self.__balance+amount\n",
    "            print(\"deposit successfully\")\n",
    "        else:\n",
    "            print(\"wrong pinCode and deposit failed\")\n",
    "    def withDraw(self,accountNumber,pinCode,widthDrawAmount):\n",
    "        if(self.__accountNumber==accountNumber and self.__pinCode==pinCode):\n",
    "            if(self.__balance > widthDrawAmount):\n",
    "                self.__balance=self.__balance-widthDrawAmount\n",
    "                return self.display(self.__accountNumber,self.__pinCode)\n",
    "        else:\n",
    "            print(\"wrong pincode\")"
   ]
  },
  {
   "cell_type": "code",
   "execution_count": null,
   "metadata": {},
   "outputs": [],
   "source": [
    "A=[]\n",
    "while(1):\n",
    "    print(\"press 1 to create account\")\n",
    "    print(\"press 2 to close bank account\")\n",
    "    print(\"press 3 to deposit\")\n",
    "    print(\"press 4 to withdraw\")\n",
    "    print(\"press 5 to summary/display\")\n",
    "    print(\"press 6 to exit\")\n",
    "    i=int(input())\n",
    "    if(i==1):\n",
    "        B=BankAccount()\n",
    "        name=input(\"enter your name \")\n",
    "        pincode=input(\"enter pincode \")\n",
    "        acc=input(\"enter your account number \")\n",
    "        b=input(\"enter initial deposit :\")\n",
    "        B.set_name(name)\n",
    "        B.set_pinCode(pincode)\n",
    "        B.set_accountNumber(acc)\n",
    "        B.set_balance(b)\n",
    "        A.append(B)\n",
    "        print(\"account created successfully\")\n",
    "    elif(i==2):\n",
    "        acc=input(\"enter account number :\")\n",
    "        pincode=input(\"enter pincode :\")\n",
    "        for account in A:\n",
    "            if(account.get_accountNumber()==acc and account.get_pinCode()==pincode):\n",
    "                A.remove(account)\n",
    "                print(\"account closed successfully\")\n",
    "    elif(i==3):\n",
    "        acc=input(\"enter account number :\")\n",
    "        pincode=input(\"enter pincode :\")\n",
    "        for account in A:\n",
    "            if(account.get_accountNumber()==acc and account.get_pinCode()==pincode):\n",
    "                amount=input(\"enter deposit amount\")\n",
    "                account.deposite(acc,pincode,amount)\n",
    "    \n",
    "    elif(i==4):\n",
    "        acc=input(\"enter account number :\")\n",
    "        pincode=input(\"enter pincode :\")\n",
    "        for account in A:\n",
    "            if(account.get_accountNumber()==acc and account.get_pinCode()==pincode):\n",
    "                amount=input(\"enter widthdraw amount\")\n",
    "                account.widthDraw(acc,pincode,amount)\n",
    "    elif(i==5):\n",
    "        acc=input(\"enter account number :\")\n",
    "        pincode=input(\"enter pincode :\")\n",
    "        for account in A:\n",
    "            if(account.get_accountNumber()==acc and account.get_pinCode()==pincode):\n",
    "                account.display(acc,pincode,amount)\n",
    "    else:\n",
    "        print(\"6 is pressed\")\n",
    "        break;"
   ]
  },
  {
   "cell_type": "code",
   "execution_count": null,
   "metadata": {},
   "outputs": [],
   "source": []
  },
  {
   "cell_type": "code",
   "execution_count": null,
   "metadata": {},
   "outputs": [],
   "source": [
    "\n"
   ]
  },
  {
   "cell_type": "code",
   "execution_count": null,
   "metadata": {},
   "outputs": [],
   "source": []
  }
 ],
 "metadata": {
  "kernelspec": {
   "display_name": "Python 3",
   "language": "python",
   "name": "python3"
  },
  "language_info": {
   "codemirror_mode": {
    "name": "ipython",
    "version": 3
   },
   "file_extension": ".py",
   "mimetype": "text/x-python",
   "name": "python",
   "nbconvert_exporter": "python",
   "pygments_lexer": "ipython3",
   "version": "3.7.4"
  }
 },
 "nbformat": 4,
 "nbformat_minor": 2
}
