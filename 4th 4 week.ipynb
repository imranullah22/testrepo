{
 "cells": [
  {
   "cell_type": "code",
   "execution_count": 1,
   "metadata": {},
   "outputs": [],
   "source": [
    "class Person:\n",
    "    def _init_(self):\n",
    "        self.name=\"\"\n",
    "        self.age=0\n",
    "        self.__cnic=0\n",
    "        self.address=\"\"\n",
    "        self.mobileNumber=0\n",
    "    def setName(self,n):\n",
    "            self.name=n\n",
    "    def getName(self):\n",
    "            return self.name\n",
    "    def setAge(self,a):\n",
    "            self.age=a\n",
    "    def getAge(self):\n",
    "            return self.age\n",
    "    def setCnic(self,c):\n",
    "            self.__cnic=c\n",
    "    def getCnic(self):\n",
    "            return self.__cnic\n",
    "    def setAddress(self,ad):\n",
    "            self.address=ad\n",
    "    def getAddress(self):\n",
    "            return self.address\n",
    "    def setMobileNumber(self,m):\n",
    "            self.mobileNumber=m\n",
    "    def getMobileNumber(self):\n",
    "        return self.mobileNumber\n",
    "        "
   ]
  },
  {
   "cell_type": "code",
   "execution_count": 20,
   "metadata": {},
   "outputs": [],
   "source": [
    "p=Person()\n",
    "p.setName(\"asad\")\n",
    "p.setAge(25)\n",
    "p.setCnic(\"43544432\")\n",
    "p.setAddress(\"shabqaddar\")\n",
    "p.setMobileNumber(\"030303033\")"
   ]
  },
  {
   "cell_type": "code",
   "execution_count": 21,
   "metadata": {},
   "outputs": [
    {
     "name": "stdout",
     "output_type": "stream",
     "text": [
      "asad 25 43544432 shabqaddar 030303033\n"
     ]
    }
   ],
   "source": [
    "print(p.getName(),p.getAge(),p.getCnic(),p.getAddress(),p.getMobileNumber())"
   ]
  },
  {
   "cell_type": "code",
   "execution_count": 12,
   "metadata": {},
   "outputs": [],
   "source": [
    "class Employee(Person):\n",
    "    def _init_(self):\n",
    "        self.Designation=\"\"\n",
    "        self.salary=0\n",
    "        self.department=\"\"\n",
    "    def setDesignation(self,a):\n",
    "            self.Designation=a\n",
    "    def getDesignation(self):\n",
    "            return self.Designation\n",
    "    def setSalary(self,s):\n",
    "            self.Salary=s\n",
    "    def getSalary(self):\n",
    "            return self.Salary\n",
    "    def setDepartment(self,d):\n",
    "            self.Department=d\n",
    "    def getDepartment(self):\n",
    "            return self.Department"
   ]
  },
  {
   "cell_type": "code",
   "execution_count": 22,
   "metadata": {},
   "outputs": [],
   "source": [
    "e= Employee()\n",
    "e.setName(\"asad\")\n",
    "e.setAge(25)\n",
    "e.setCnic(\"43544432\")\n",
    "e.setAddress(\"shabqaddar bazar\")\n",
    "e.setMobileNumber(\"030303033\")\n",
    "e.setDepartment(\"hdshbbdbhjd\")\n",
    "e.setDesignation(\"233\")\n",
    "e.setSalary(\"234444\")"
   ]
  },
  {
   "cell_type": "code",
   "execution_count": 23,
   "metadata": {},
   "outputs": [
    {
     "name": "stdout",
     "output_type": "stream",
     "text": [
      "asad 25 43544432 shabqaddar bazar shabqaddar 030303033 hdshbbdbhjd 234444 233\n"
     ]
    }
   ],
   "source": [
    "print(e.getName(),e.getAge(),e.getCnic(),e.getAddress(),p.getAddress(),e.getMobileNumber(),\n",
    "      e.getDepartment(),e.getSalary(),e.getDesignation())"
   ]
  },
  {
   "cell_type": "code",
   "execution_count": 24,
   "metadata": {},
   "outputs": [],
   "source": [
    "class Student(Person):\n",
    "    def __init__(self):\n",
    "        self.name=\"\"\n",
    "        self.age=0\n",
    "        self.cnic=\"\"\n",
    "        self.registration=\"\"\n",
    "        self.stclass=\"\"\n",
    "        self.fee=\"\"\n",
    "    def setName(self,a):\n",
    "            self.name=a\n",
    "    def getName(self):\n",
    "            return self.name\n",
    "    def setAge(self,s):\n",
    "            self.age=s\n",
    "    def getAge(self):\n",
    "            return self.age\n",
    "    def setCnic(self,d):\n",
    "            self.cnic=d\n",
    "    def getCnic(self):\n",
    "            return self.cnic\n",
    "    def setRegistration(self,d):\n",
    "            self.registration=d\n",
    "    def getRegistration(self):\n",
    "            return self.registration\n",
    "    def setFee(self,d):\n",
    "            self.fee=d\n",
    "    def getFee(self):\n",
    "            return self.fee"
   ]
  },
  {
   "cell_type": "code",
   "execution_count": 25,
   "metadata": {},
   "outputs": [],
   "source": [
    "s=Student()\n"
   ]
  },
  {
   "cell_type": "code",
   "execution_count": 29,
   "metadata": {},
   "outputs": [],
   "source": [
    "s.setName(\"asad\")\n",
    "s.setAge(25)\n",
    "s.setCnic(\"43544432\")\n",
    "s.setRegistration(\"7767\")\n",
    "s.setFee(25)\n"
   ]
  },
  {
   "cell_type": "code",
   "execution_count": 30,
   "metadata": {},
   "outputs": [
    {
     "name": "stdout",
     "output_type": "stream",
     "text": [
      "asad 25 43544432 7767 25\n"
     ]
    }
   ],
   "source": [
    "print(s.name,s.age,s.cnic,s.registration,s.fee)"
   ]
  },
  {
   "cell_type": "code",
   "execution_count": 31,
   "metadata": {},
   "outputs": [
    {
     "name": "stdout",
     "output_type": "stream",
     "text": [
      "asad\n"
     ]
    }
   ],
   "source": [
    "print(s.getName())"
   ]
  },
  {
   "cell_type": "code",
   "execution_count": 32,
   "metadata": {},
   "outputs": [
    {
     "name": "stdout",
     "output_type": "stream",
     "text": [
      "asad 25 43544432 7767 25\n"
     ]
    }
   ],
   "source": [
    "print(s.getName(),s.getAge(),s.getCnic(),s.getRegistration(),s.getFee())"
   ]
  },
  {
   "cell_type": "code",
   "execution_count": 33,
   "metadata": {},
   "outputs": [],
   "source": [
    "class Vehicle:\n",
    "    def __init__(self):\n",
    "        self.__noOfTyres=0\n",
    "        self.__noOfseats=0\n",
    "        self.__engine=\"\"\n",
    "        self.__maxSpeed=\"\"\n",
    "        self.__EngineType=\"\"\n",
    "    def setNoOfTyres(self,a):\n",
    "        self.__noOfTyres=a\n",
    "    def getNoOfTyres(self):\n",
    "        return  self.__noOfTyres\n",
    "    def setNoOfSeats(self,a):\n",
    "        self.__noOfSeats=a\n",
    "    def getNoOfSeats(self):\n",
    "        return  self.__noOfSeats\n",
    "    def setEngine(self,a):\n",
    "        self.__engine=a\n",
    "    def getEngine(self):\n",
    "        return  self.__engine\n",
    "    def setMaxSpeed(self,a):\n",
    "        self.__maxSpeed=a\n",
    "    def getMaxSpeed(self):\n",
    "        return  self.__maxSpeed\n",
    "    def setEngineType(self,a):\n",
    "        self.__EngineType=a\n",
    "    def getEngineType(self):\n",
    "        return  self.__EngineType\n",
    "    \n",
    "        "
   ]
  },
  {
   "cell_type": "code",
   "execution_count": 44,
   "metadata": {},
   "outputs": [],
   "source": [
    "class bus(Vehicle):\n",
    "    def _init_(self):\n",
    "        company=\"\"\n",
    "        airCondition=\"\"\n",
    "        mileAge=0\n",
    "        fuelConsumption=\"\"\n",
    "        gearType=\"\"\n",
    "    def setCompany(self,a):\n",
    "        self.company=a\n",
    "    def getCompany(self):\n",
    "        return self.company\n",
    "    def setAirCondition(self,a):\n",
    "        self.airCondition=a\n",
    "    def getAirCondition(self):\n",
    "        return self.airCondition\n",
    "    def setMileAge(self,a):\n",
    "        self.mileAge=a\n",
    "    def getMileAge(self):\n",
    "        return self.mileAge\n",
    "    def setFuelConsumption(self,a):\n",
    "        self.fuelConsumption=a\n",
    "    def getFuelConsumption(self):\n",
    "        return self.fuelConsumption\n",
    "    def setGearType(self,a):\n",
    "        self.gearType=a\n",
    "    def getGearType(self):\n",
    "        return self.gearType"
   ]
  },
  {
   "cell_type": "code",
   "execution_count": 45,
   "metadata": {},
   "outputs": [],
   "source": [
    "x=bus()\n",
    "x.setCompany(\"korean\")\n",
    "x.setAirCondition(\"korean 2 ton\")\n",
    "x.setMileAge(1000)\n",
    "x.setFuelConsumption(\"petrole\")\n",
    "x.setGearType(\"607wall\")"
   ]
  },
  {
   "cell_type": "code",
   "execution_count": 46,
   "metadata": {},
   "outputs": [
    {
     "name": "stdout",
     "output_type": "stream",
     "text": [
      "korean korean 2 ton 1000 petrole 607wall\n"
     ]
    }
   ],
   "source": [
    "print(x.company,x.airCondition,x.mileAge,x.fuelConsumption,x.gearType)"
   ]
  },
  {
   "cell_type": "code",
   "execution_count": 47,
   "metadata": {},
   "outputs": [
    {
     "name": "stdout",
     "output_type": "stream",
     "text": [
      "korean korean 2 ton 1000 petrole 607wall\n"
     ]
    }
   ],
   "source": [
    "print(x.getCompany(),x.getAirCondition(),x.getMileAge(),x.getFuelConsumption(),x.getGearType())"
   ]
  },
  {
   "cell_type": "code",
   "execution_count": 48,
   "metadata": {},
   "outputs": [],
   "source": [
    "class car(Vehicle):\n",
    "    def _init_(self):\n",
    "        company=\"\"\n",
    "        airCondition=\"\"\n",
    "        mileAge=0\n",
    "        fuelConsumption=\"\"\n",
    "        gearType=\"\"\n",
    "    def setCompany(self,a):\n",
    "        self.company=a\n",
    "    def getCompany(self):\n",
    "        return self.company\n",
    "    def setAirCondition(self,a):\n",
    "        self.airCondition=a\n",
    "    def getAirCondition(self):\n",
    "        return self.airCondition\n",
    "    def setMileAge(self,a):\n",
    "        self.mileAge=a\n",
    "    def getMileAge(self):\n",
    "        return self.mileAge\n",
    "    def setFuelConsumption(self,a):\n",
    "        self.fuelConsumption=a\n",
    "    def getFuelConsumption(self):\n",
    "        return self.fuelConsumption\n",
    "    def setGearType(self,a):\n",
    "        self.gearType=a\n",
    "    def getGearType(self):\n",
    "        return self.gearType"
   ]
  },
  {
   "cell_type": "code",
   "execution_count": 58,
   "metadata": {},
   "outputs": [],
   "source": [
    "c=car()\n",
    "c.setCompany(\"japan\")\n",
    "c.setAirCondition(\"1 ton japani\")\n",
    "c.setMileAge(200)\n",
    "c.setFuelConsumption(\"cng,petrole\")\n",
    "c.setGearType(\"16 wall\")\n",
    "c.setEngineType(\"16 wall\")"
   ]
  },
  {
   "cell_type": "code",
   "execution_count": 59,
   "metadata": {},
   "outputs": [
    {
     "name": "stdout",
     "output_type": "stream",
     "text": [
      "japan 1 ton japani 200 cng,petrole 16 wall\n"
     ]
    }
   ],
   "source": [
    "print(c.company,c.airCondition,c.mileAge,c.fuelConsumption,c.gearType)"
   ]
  },
  {
   "cell_type": "code",
   "execution_count": 61,
   "metadata": {},
   "outputs": [
    {
     "name": "stdout",
     "output_type": "stream",
     "text": [
      "japan 1 ton japani 200 cng,petrole 16 wall 16 wall\n"
     ]
    }
   ],
   "source": [
    "print(c.getCompany(),c.getAirCondition(),c.getMileAge(),c.getFuelConsumption(),c.getGearType(),c.getEngineType())"
   ]
  },
  {
   "cell_type": "code",
   "execution_count": 52,
   "metadata": {},
   "outputs": [],
   "source": [
    "v=Vehicle()\n",
    "v.setNoOfTyres(\"japan111\")\n",
    "v.setNoOfSeats(\"1 ton japani\")\n",
    "v.setEngine(200)\n",
    "v.setMaxSpeed(\"cng,petrole\")\n",
    "v.setEngineType(\"16 wall\")"
   ]
  },
  {
   "cell_type": "code",
   "execution_count": 53,
   "metadata": {},
   "outputs": [
    {
     "name": "stdout",
     "output_type": "stream",
     "text": [
      "japan111\n"
     ]
    }
   ],
   "source": [
    "print(v.getNoOfTyres())"
   ]
  },
  {
   "cell_type": "code",
   "execution_count": 54,
   "metadata": {},
   "outputs": [
    {
     "name": "stdout",
     "output_type": "stream",
     "text": [
      "japan 1 ton japani 200 cng,petrole 16 wall japan111 1 ton japani 200 cng,petrole 16 wall\n"
     ]
    }
   ],
   "source": [
    "print(c.getCompany(),c.getAirCondition(),c.getMileAge(),c.getFuelConsumption(),c.getGearType(),\n",
    "      v.getNoOfTyres(),v.getNoOfSeats(),v.getEngine(),v.getMaxSpeed(),v.getEngineType())"
   ]
  },
  {
   "cell_type": "code",
   "execution_count": 168,
   "metadata": {},
   "outputs": [],
   "source": [
    "class BankAccount:\n",
    "    def __init__(self):\n",
    "        self.name=\"\"\n",
    "        self.__accountNumber=0\n",
    "        self.__pinCode=0\n",
    "        self.__balance=0.0\n",
    "    def set_name(self,n):\n",
    "        self.name=n\n",
    "    def  get_name(self):\n",
    "        return self.name\n",
    "    def set_accountNumber(self,a):\n",
    "        self.__accountNumber=a\n",
    "    def  get_accountNumber(self):\n",
    "        return self.__accountNumber\n",
    "    def set_pinCode(self,p):\n",
    "        self.__pinCode=p\n",
    "    def  get_pinCode(self):\n",
    "        return self.__pinCode\n",
    "    def set_balance(self,b):\n",
    "        self.__balance=b\n",
    "    def  get_balance(self):\n",
    "        return self.__balance\n",
    "    def display(self,accountNumber,pinCode):\n",
    "        if(self.__accountNumber==accountNumber and self.__pinCode==pinCode):\n",
    "            print(\"Bank account no \",self.__accountNumber)\n",
    "            print(\"Name :\",self.name)\n",
    "            print(\"Balance : \",self.__balance)\n",
    "        else:\n",
    "            print(\"wrong pinCode try again\")\n",
    "    def deposite(self,accountNumber,pinCode,amount):\n",
    "        if(self.__accountNumber==accountNumber and self.__pinCode==pinCode):\n",
    "            self.__balance=self.__balance+amount\n",
    "        else:\n",
    "            print(\"you have insufficient balance\")\n",
    "    def withDraw(self,accountNumber,pinCode,amount):\n",
    "         if(self.__accountNumber==accountNumber and self.__pinCode==pinCode):\n",
    "                if(self.__balance > amount):\n",
    "                    self.__balance-=amount\n",
    "                    return self.display(self.__accountNumber,self.__pinCode)\n",
    "                else:\n",
    "                    print(\"you have insufficient balance\")"
   ]
  },
  {
   "cell_type": "code",
   "execution_count": 169,
   "metadata": {},
   "outputs": [],
   "source": [
    "b=BankAccount()\n",
    "b.set_name(\"imranullah\")\n",
    "b.set_accountNumber(123)\n",
    "b.set_pinCode(111)\n",
    "b.set_balance(10500)"
   ]
  },
  {
   "cell_type": "code",
   "execution_count": 170,
   "metadata": {},
   "outputs": [
    {
     "name": "stdout",
     "output_type": "stream",
     "text": [
      "Bank account no  123\n",
      "Name : imranullah\n",
      "Balance :  10500\n"
     ]
    }
   ],
   "source": [
    "b.display(b.get_accountNumber(),b.get_pinCode())"
   ]
  },
  {
   "cell_type": "code",
   "execution_count": 171,
   "metadata": {},
   "outputs": [
    {
     "name": "stdout",
     "output_type": "stream",
     "text": [
      "you have insufficient balance\n"
     ]
    }
   ],
   "source": [
    "b.deposite(\"2766\",111,1000)"
   ]
  },
  {
   "cell_type": "code",
   "execution_count": 172,
   "metadata": {},
   "outputs": [],
   "source": [
    "b.withDraw(\"123\",111,4555)"
   ]
  },
  {
   "cell_type": "code",
   "execution_count": null,
   "metadata": {},
   "outputs": [],
   "source": []
  },
  {
   "cell_type": "code",
   "execution_count": null,
   "metadata": {},
   "outputs": [],
   "source": []
  },
  {
   "cell_type": "code",
   "execution_count": null,
   "metadata": {},
   "outputs": [],
   "source": []
  }
 ],
 "metadata": {
  "kernelspec": {
   "display_name": "Python 3",
   "language": "python",
   "name": "python3"
  },
  "language_info": {
   "codemirror_mode": {
    "name": "ipython",
    "version": 3
   },
   "file_extension": ".py",
   "mimetype": "text/x-python",
   "name": "python",
   "nbconvert_exporter": "python",
   "pygments_lexer": "ipython3",
   "version": "3.7.4"
  }
 },
 "nbformat": 4,
 "nbformat_minor": 2
}
