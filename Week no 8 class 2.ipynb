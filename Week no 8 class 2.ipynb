{
 "cells": [
  {
   "cell_type": "code",
   "execution_count": 4,
   "metadata": {},
   "outputs": [],
   "source": [
    "def add(a, b):\n",
    "    return a+b"
   ]
  },
  {
   "cell_type": "code",
   "execution_count": 2,
   "metadata": {},
   "outputs": [
    {
     "data": {
      "text/plain": [
       "5"
      ]
     },
     "execution_count": 2,
     "metadata": {},
     "output_type": "execute_result"
    }
   ],
   "source": [
    "add(2, 3)"
   ]
  },
  {
   "cell_type": "code",
   "execution_count": 3,
   "metadata": {},
   "outputs": [
    {
     "data": {
      "text/plain": [
       "[3, 5, 7]"
      ]
     },
     "execution_count": 3,
     "metadata": {},
     "output_type": "execute_result"
    }
   ],
   "source": [
    "l1 = (1, 2, 3)\n",
    "l2 = (2, 3, 4)\n",
    "list(map(add, (l1), (l2)))"
   ]
  },
  {
   "cell_type": "code",
   "execution_count": 8,
   "metadata": {},
   "outputs": [],
   "source": [
    "def sub(a, b):\n",
    "    return a-b"
   ]
  },
  {
   "cell_type": "code",
   "execution_count": 9,
   "metadata": {},
   "outputs": [
    {
     "data": {
      "text/plain": [
       "1"
      ]
     },
     "execution_count": 9,
     "metadata": {},
     "output_type": "execute_result"
    }
   ],
   "source": [
    "sub(3, 2)"
   ]
  },
  {
   "cell_type": "code",
   "execution_count": 20,
   "metadata": {},
   "outputs": [],
   "source": [
    "def mul(a, b):\n",
    "    return a * b"
   ]
  },
  {
   "cell_type": "code",
   "execution_count": 21,
   "metadata": {},
   "outputs": [
    {
     "data": {
      "text/plain": [
       "6"
      ]
     },
     "execution_count": 21,
     "metadata": {},
     "output_type": "execute_result"
    }
   ],
   "source": [
    "mul(2, 3)"
   ]
  },
  {
   "cell_type": "code",
   "execution_count": 12,
   "metadata": {},
   "outputs": [],
   "source": [
    "def div(a, b):\n",
    "    return a / b"
   ]
  },
  {
   "cell_type": "code",
   "execution_count": 13,
   "metadata": {},
   "outputs": [
    {
     "data": {
      "text/plain": [
       "3.0"
      ]
     },
     "execution_count": 13,
     "metadata": {},
     "output_type": "execute_result"
    }
   ],
   "source": [
    "div(6, 2)"
   ]
  },
  {
   "cell_type": "code",
   "execution_count": 27,
   "metadata": {},
   "outputs": [],
   "source": [
    "def power(a):\n",
    "    return a**2\n",
    "l1 = (2, 3, 5)"
   ]
  },
  {
   "cell_type": "code",
   "execution_count": 28,
   "metadata": {},
   "outputs": [
    {
     "data": {
      "text/plain": [
       "[4, 9, 25]"
      ]
     },
     "execution_count": 28,
     "metadata": {},
     "output_type": "execute_result"
    }
   ],
   "source": [
    "list(map(power, (l1)))"
   ]
  },
  {
   "cell_type": "code",
   "execution_count": 39,
   "metadata": {},
   "outputs": [],
   "source": [
    "def to_farn(C):\n",
    "    return 9/5 * C + 32\n",
    "l1 = (33, 35, 45)"
   ]
  },
  {
   "cell_type": "code",
   "execution_count": 41,
   "metadata": {},
   "outputs": [
    {
     "data": {
      "text/plain": [
       "[91.4, 95.0, 113.0]"
      ]
     },
     "execution_count": 41,
     "metadata": {},
     "output_type": "execute_result"
    }
   ],
   "source": [
    "list(map(to_farn,(l1)))"
   ]
  },
  {
   "cell_type": "code",
   "execution_count": 42,
   "metadata": {},
   "outputs": [],
   "source": [
    "def to_cels(f):\n",
    "    return(f-32)*5/9\n",
    "l1 = (30, 35, 36)"
   ]
  },
  {
   "cell_type": "code",
   "execution_count": 43,
   "metadata": {},
   "outputs": [
    {
     "data": {
      "text/plain": [
       "[-1.1111111111111112, 1.6666666666666667, 2.2222222222222223]"
      ]
     },
     "execution_count": 43,
     "metadata": {},
     "output_type": "execute_result"
    }
   ],
   "source": [
    "list(map(to_cels, (l1)))"
   ]
  },
  {
   "cell_type": "code",
   "execution_count": 46,
   "metadata": {},
   "outputs": [],
   "source": [
    "def power(x):\n",
    "    return x**2, x**3, x**4\n",
    "l1 = (2, 3, 4)"
   ]
  },
  {
   "cell_type": "code",
   "execution_count": 47,
   "metadata": {},
   "outputs": [
    {
     "data": {
      "text/plain": [
       "[(4, 8, 16), (9, 27, 81), (16, 64, 256)]"
      ]
     },
     "execution_count": 47,
     "metadata": {},
     "output_type": "execute_result"
    }
   ],
   "source": [
    "list(map(power, (l1)))"
   ]
  },
  {
   "cell_type": "code",
   "execution_count": 48,
   "metadata": {},
   "outputs": [
    {
     "data": {
      "text/plain": [
       "[['A', 's', 'a', 'd'],\n",
       " ['a', 'l', 'i'],\n",
       " ['I', 'm', 'r', 'a', 'n'],\n",
       " ['A', 'q', 'i', 'b'],\n",
       " ['W', 'a', 's', 'e', 'e', 'm']]"
      ]
     },
     "execution_count": 48,
     "metadata": {},
     "output_type": "execute_result"
    }
   ],
   "source": [
    "s = [\"Asad\", \"ali\", \"Imran\", \"Aqib\", \"Waseem\"]\n",
    "list(map(list, s))"
   ]
  },
  {
   "cell_type": "code",
   "execution_count": 116,
   "metadata": {},
   "outputs": [],
   "source": [
    "import pandas as pd\n",
    "import numpy as np"
   ]
  },
  {
   "cell_type": "code",
   "execution_count": 89,
   "metadata": {},
   "outputs": [
    {
     "name": "stdout",
     "output_type": "stream",
     "text": [
      "  Category      item    Size  Price\n",
      "0        A      Ball  Medium    200\n",
      "1        B       Pen   Small     20\n",
      "2        A       Bat   Large   1000\n",
      "3        A  Football  Medium    500\n"
     ]
    }
   ],
   "source": [
    "df = pd.read_csv(\"Dataset.csv\")\n",
    "print(df)"
   ]
  },
  {
   "cell_type": "code",
   "execution_count": 90,
   "metadata": {},
   "outputs": [
    {
     "name": "stdout",
     "output_type": "stream",
     "text": [
      "Size                Large  Medium  Small\n",
      "Category item                           \n",
      "A        Ball         NaN   200.0    NaN\n",
      "         Bat       1000.0     NaN    NaN\n",
      "         Football     NaN   500.0    NaN\n",
      "B        Pen          NaN     NaN   20.0\n"
     ]
    }
   ],
   "source": [
    "t = pd.pivot_table(df, values='Price', index=['Category', 'item'],columns=['Size'],aggfunc =np.sum)\n",
    "print(t)"
   ]
  },
  {
   "cell_type": "code",
   "execution_count": 91,
   "metadata": {},
   "outputs": [
    {
     "name": "stdout",
     "output_type": "stream",
     "text": [
      "Size                Large  Medium  Small\n",
      "Category item                           \n",
      "A        Ball         NaN   200.0    NaN\n",
      "         Bat       1000.0     NaN    NaN\n",
      "         Football     NaN   500.0    NaN\n",
      "B        Pen          NaN     NaN   20.0\n"
     ]
    }
   ],
   "source": [
    "t = pd.pivot_table(df, values='Price', index=['Category', 'item'],columns=['Size'],aggfunc =np.mean)\n",
    "print(t)"
   ]
  },
  {
   "cell_type": "code",
   "execution_count": 92,
   "metadata": {},
   "outputs": [
    {
     "name": "stdout",
     "output_type": "stream",
     "text": [
      "Size                Large  Medium  Small\n",
      "Category item                           \n",
      "A        Ball         NaN   200.0    NaN\n",
      "         Bat       1000.0     NaN    NaN\n",
      "         Football     NaN   500.0    NaN\n",
      "B        Pen          NaN     NaN   20.0\n"
     ]
    }
   ],
   "source": [
    "t = pd.pivot_table(df, values='Price', index=['Category', 'item'],columns=['Size'],aggfunc =np.min)\n",
    "print(t)"
   ]
  },
  {
   "cell_type": "code",
   "execution_count": 93,
   "metadata": {},
   "outputs": [
    {
     "name": "stdout",
     "output_type": "stream",
     "text": [
      "Size                Large  Medium  Small\n",
      "Category item                           \n",
      "A        Ball         NaN   200.0    NaN\n",
      "         Bat       1000.0     NaN    NaN\n",
      "         Football     NaN   500.0    NaN\n",
      "B        Pen          NaN     NaN   20.0\n"
     ]
    }
   ],
   "source": [
    "t = pd.pivot_table(df, values='Price', index=['Category', 'item'],columns=['Size'],aggfunc =np.max)\n",
    "print(t)"
   ]
  },
  {
   "cell_type": "code",
   "execution_count": 94,
   "metadata": {},
   "outputs": [
    {
     "name": "stdout",
     "output_type": "stream",
     "text": [
      "Empty DataFrame\n",
      "Columns: []\n",
      "Index: []\n"
     ]
    }
   ],
   "source": [
    "t = pd.pivot_table(df, values='Price', index=['Category', 'item'],columns=['Size'],aggfunc =np.var)\n",
    "print(t)"
   ]
  },
  {
   "cell_type": "code",
   "execution_count": 95,
   "metadata": {},
   "outputs": [
    {
     "name": "stdout",
     "output_type": "stream",
     "text": [
      "Empty DataFrame\n",
      "Columns: []\n",
      "Index: []\n"
     ]
    }
   ],
   "source": [
    "t = pd.pivot_table(df, values='Price', index=['Category', 'item'],columns=['Size'],aggfunc =np.std)\n",
    "print(t)"
   ]
  },
  {
   "cell_type": "code",
   "execution_count": 96,
   "metadata": {},
   "outputs": [
    {
     "name": "stdout",
     "output_type": "stream",
     "text": [
      "                   Price\n",
      "Category item           \n",
      "A        Ball        200\n",
      "         Bat        1000\n",
      "         Football    500\n",
      "B        Pen          20\n"
     ]
    }
   ],
   "source": [
    "t = pd.pivot_table(df, values='Price', index=['Category', 'item'],aggfunc =np.sum)\n",
    "print(t)"
   ]
  },
  {
   "cell_type": "code",
   "execution_count": 108,
   "metadata": {},
   "outputs": [
    {
     "name": "stdout",
     "output_type": "stream",
     "text": [
      "      Areas        Domain  Salary\n",
      "0   Medical        Surgen   50000\n",
      "1       Eng      Elec Eng   30000\n",
      "2   Medical     Dentalist   30000\n",
      "3       Eng     Civil Eng   50000\n",
      "4   Medical  Cardiologist  100000\n",
      "5   Medical    Orthopadic  120000\n",
      "6  Medical         Surgen  200000\n"
     ]
    }
   ],
   "source": [
    "df = pd.read_csv(\"Data.csv\")\n",
    "print(df)"
   ]
  },
  {
   "cell_type": "code",
   "execution_count": 98,
   "metadata": {},
   "outputs": [
    {
     "name": "stdout",
     "output_type": "stream",
     "text": [
      "                       Salary\n",
      "Areas    Domain              \n",
      "Eng      Civil Eng      50000\n",
      "         Elec Eng       30000\n",
      "Medical  Cardiologist  100000\n",
      "         Dentalist      30000\n",
      "         Orthopadic    120000\n",
      "         Surgen         50000\n",
      "Medical  Surgen        200000\n"
     ]
    }
   ],
   "source": [
    "t = pd.pivot_table(df, values='Salary', index=['Areas', 'Domain'],aggfunc =np.sum)\n",
    "print(t)"
   ]
  },
  {
   "cell_type": "code",
   "execution_count": 109,
   "metadata": {},
   "outputs": [
    {
     "name": "stdout",
     "output_type": "stream",
     "text": [
      "                       Salary\n",
      "Areas    Domain              \n",
      "Eng      Civil Eng      50000\n",
      "         Elec Eng       30000\n",
      "Medical  Cardiologist  100000\n",
      "         Dentalist      30000\n",
      "         Orthopadic    120000\n",
      "         Surgen         50000\n",
      "Medical  Surgen        200000\n"
     ]
    }
   ],
   "source": [
    "t = pd.pivot_table(df, values='Salary', index=['Areas', 'Domain'],aggfunc =np.max)\n",
    "print(t)"
   ]
  },
  {
   "cell_type": "code",
   "execution_count": 110,
   "metadata": {},
   "outputs": [
    {
     "name": "stdout",
     "output_type": "stream",
     "text": [
      "                       Salary\n",
      "Areas    Domain              \n",
      "Eng      Civil Eng      50000\n",
      "         Elec Eng       30000\n",
      "Medical  Cardiologist  100000\n",
      "         Dentalist      30000\n",
      "         Orthopadic    120000\n",
      "         Surgen         50000\n",
      "Medical  Surgen        200000\n"
     ]
    }
   ],
   "source": [
    "t = pd.pivot_table(df, values='Salary', index=['Areas', 'Domain'],aggfunc =np.min)\n",
    "print(t)"
   ]
  },
  {
   "cell_type": "code",
   "execution_count": 111,
   "metadata": {},
   "outputs": [
    {
     "name": "stdout",
     "output_type": "stream",
     "text": [
      "                       Salary\n",
      "Areas    Domain              \n",
      "Eng      Civil Eng      50000\n",
      "         Elec Eng       30000\n",
      "Medical  Cardiologist  100000\n",
      "         Dentalist      30000\n",
      "         Orthopadic    120000\n",
      "         Surgen         50000\n",
      "Medical  Surgen        200000\n"
     ]
    }
   ],
   "source": [
    "t = pd.pivot_table(df, values='Salary', index=['Areas', 'Domain'],aggfunc =np.sum)\n",
    "print(t)"
   ]
  },
  {
   "cell_type": "code",
   "execution_count": 118,
   "metadata": {},
   "outputs": [
    {
     "name": "stdout",
     "output_type": "stream",
     "text": [
      "Empty DataFrame\n",
      "Columns: []\n",
      "Index: []\n"
     ]
    }
   ],
   "source": [
    "t = pd.pivot_table(df,values='Salary', index=['Areas', 'Domain'], aggfunc =np.var)\n",
    "print(t)"
   ]
  },
  {
   "cell_type": "code",
   "execution_count": 119,
   "metadata": {},
   "outputs": [
    {
     "name": "stdout",
     "output_type": "stream",
     "text": [
      "      Degree           Subject  No of students\n",
      "0         Cs           Physics              21\n",
      "1         SE  Computer science              20\n",
      "2  Civil Eng             Maths              30\n"
     ]
    }
   ],
   "source": [
    "Dataset = {\n",
    "    \"Degree\": [\"Cs\", \"SE\", \"Civil Eng\"],\n",
    "    \"Subject\":[\"Physics\", \"Computer science\", \"Maths\"],\n",
    "    \"No of students\":[21, 20, 30]\n",
    "}\n",
    "df = pd.DataFrame(Dataset)\n",
    "print(df)"
   ]
  },
  {
   "cell_type": "code",
   "execution_count": null,
   "metadata": {},
   "outputs": [],
   "source": []
  }
 ],
 "metadata": {
  "kernelspec": {
   "display_name": "Python 3",
   "language": "python",
   "name": "python3"
  },
  "language_info": {
   "codemirror_mode": {
    "name": "ipython",
    "version": 3
   },
   "file_extension": ".py",
   "mimetype": "text/x-python",
   "name": "python",
   "nbconvert_exporter": "python",
   "pygments_lexer": "ipython3",
   "version": "3.7.4"
  }
 },
 "nbformat": 4,
 "nbformat_minor": 5
}
