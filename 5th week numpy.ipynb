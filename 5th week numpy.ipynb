{
 "cells": [
  {
   "cell_type": "code",
   "execution_count": 1,
   "metadata": {},
   "outputs": [],
   "source": [
    "import numpy as np"
   ]
  },
  {
   "cell_type": "code",
   "execution_count": 2,
   "metadata": {},
   "outputs": [
    {
     "name": "stdout",
     "output_type": "stream",
     "text": [
      "[list([1, 2, 3, 4, 5, 6]) list([2, 3, 4, 5, 6])]\n"
     ]
    }
   ],
   "source": [
    "a=np.array([[1,2,3,4,5,6],[2,3,4,5,6]])\n",
    "print(a)"
   ]
  },
  {
   "cell_type": "code",
   "execution_count": 3,
   "metadata": {
    "scrolled": true
   },
   "outputs": [
    {
     "name": "stdout",
     "output_type": "stream",
     "text": [
      "[[1 1 1 1 1]\n",
      " [1 1 1 1 1]\n",
      " [1 1 1 1 1]\n",
      " [1 1 1 1 1]]\n"
     ]
    }
   ],
   "source": [
    "b=np.ones((4,5),dtype=np.int64)\n",
    "print(b)"
   ]
  },
  {
   "cell_type": "code",
   "execution_count": 4,
   "metadata": {
    "scrolled": true
   },
   "outputs": [
    {
     "name": "stdout",
     "output_type": "stream",
     "text": [
      "[[0 0 0 0 0]\n",
      " [0 0 0 0 0]\n",
      " [0 0 0 0 0]\n",
      " [0 0 0 0 0]]\n"
     ]
    }
   ],
   "source": [
    "c=np.zeros((4,5),dtype=np.int64)\n",
    "print(c)"
   ]
  },
  {
   "cell_type": "code",
   "execution_count": 5,
   "metadata": {
    "scrolled": true
   },
   "outputs": [
    {
     "name": "stdout",
     "output_type": "stream",
     "text": [
      "[[0. 0. 0. 0. 0.]\n",
      " [0. 0. 0. 0. 0.]\n",
      " [0. 0. 0. 0. 0.]\n",
      " [0. 0. 0. 0. 0.]]\n"
     ]
    }
   ],
   "source": [
    "e=np.zeros((4,5),dtype=np.double)\n",
    "print(e)"
   ]
  },
  {
   "cell_type": "code",
   "execution_count": 6,
   "metadata": {},
   "outputs": [
    {
     "name": "stdout",
     "output_type": "stream",
     "text": [
      "[[0. 0. 0. 0. 0.]\n",
      " [0. 0. 0. 0. 0.]\n",
      " [0. 0. 0. 0. 0.]\n",
      " [0. 0. 0. 0. 0.]]\n"
     ]
    }
   ],
   "source": [
    "e=np.zeros((4,5),dtype=np.float)\n",
    "print(e)"
   ]
  },
  {
   "cell_type": "code",
   "execution_count": 7,
   "metadata": {},
   "outputs": [
    {
     "name": "stdout",
     "output_type": "stream",
     "text": [
      "[ 4  6  8 10 12 14 16 18 20 22 24 26 28 30 32 34 36 38 40 42 44 46 48 50\n",
      " 52 54 56 58 60 62 64 66 68 70 72 74 76 78 80 82 84 86 88 90 92 94 96 98]\n"
     ]
    }
   ],
   "source": [
    "d=np.arange(4,100,2)\n",
    "print(d)"
   ]
  },
  {
   "cell_type": "code",
   "execution_count": 8,
   "metadata": {},
   "outputs": [
    {
     "name": "stdout",
     "output_type": "stream",
     "text": [
      "[ 4  5  6  7  8  9 10 11 12 13 14 15 16 17 18 19 20 21 22 23 24 25 26 27\n",
      " 28 29 30 31 32 33 34 35 36 37 38 39 40 41 42 43 44 45 46 47 48 49 50 51\n",
      " 52 53 54 55 56 57 58 59 60 61 62 63 64 65 66 67 68 69 70 71 72 73 74 75\n",
      " 76 77 78 79 80 81 82 83 84 85 86 87 88 89 90 91 92 93 94 95 96 97 98 99]\n"
     ]
    }
   ],
   "source": [
    "d=np.arange(4,100)\n",
    "print(d)"
   ]
  },
  {
   "cell_type": "code",
   "execution_count": 9,
   "metadata": {
    "scrolled": true
   },
   "outputs": [
    {
     "name": "stdout",
     "output_type": "stream",
     "text": [
      "[ 0  3  6  9 12 15 18 21 24 27 30 33 36 39 42 45 48 51 54 57 60 63 66 69\n",
      " 72 75 78 81 84 87 90 93 96 99]\n"
     ]
    }
   ],
   "source": [
    "d=np.arange(0,100,3)\n",
    "print(d)"
   ]
  },
  {
   "cell_type": "code",
   "execution_count": 10,
   "metadata": {
    "scrolled": true
   },
   "outputs": [
    {
     "name": "stdout",
     "output_type": "stream",
     "text": [
      "[ 0  1  2  3  4  5  6  7  8  9 10 11 12 13 14 15 16 17 18 19 20 21 22 23\n",
      " 24 25 26 27 28 29 30 31 32 33 34 35 36 37 38 39 40 41 42 43 44 45 46 47\n",
      " 48 49 50 51 52 53 54 55 56 57 58 59 60 61 62 63 64 65 66 67 68 69 70 71\n",
      " 72 73 74 75 76 77 78 79 80 81 82 83 84 85 86 87 88 89 90 91 92 93 94 95\n",
      " 96 97 98 99]\n"
     ]
    }
   ],
   "source": [
    "d=np.arange(100)\n",
    "print(d)"
   ]
  },
  {
   "cell_type": "code",
   "execution_count": 12,
   "metadata": {},
   "outputs": [
    {
     "data": {
      "text/plain": [
       "array([[1, 1, 1, 1, 1],\n",
       "       [1, 1, 1, 1, 1],\n",
       "       [1, 1, 1, 1, 1],\n",
       "       [1, 1, 1, 1, 1],\n",
       "       [0, 0, 0, 0, 0],\n",
       "       [0, 0, 0, 0, 0],\n",
       "       [0, 0, 0, 0, 0],\n",
       "       [0, 0, 0, 0, 0]], dtype=int64)"
      ]
     },
     "execution_count": 12,
     "metadata": {},
     "output_type": "execute_result"
    }
   ],
   "source": [
    "e=np.concatenate([b,c])\n",
    "e"
   ]
  },
  {
   "cell_type": "code",
   "execution_count": 13,
   "metadata": {},
   "outputs": [
    {
     "name": "stdout",
     "output_type": "stream",
     "text": [
      "[ 0.  1.  2.  3.  4.  5.  6.  7.  8.  9. 10. 11. 12. 13. 14. 15. 16. 17.\n",
      " 18. 19. 20. 21. 22. 23. 24. 25. 26. 27. 28. 29. 30. 31. 32. 33. 34. 35.\n",
      " 36. 37. 38. 39. 40. 41. 42. 43. 44. 45. 46. 47. 48. 49. 50. 51. 52. 53.\n",
      " 54. 55. 56. 57. 58. 59. 60. 61. 62. 63. 64. 65. 66. 67. 68. 69. 70. 71.\n",
      " 72. 73. 74. 75. 76. 77. 78. 79. 80. 81. 82. 83. 84. 85. 86. 87. 88. 89.\n",
      " 90. 91. 92. 93. 94. 95. 96. 97. 98. 99.]\n"
     ]
    }
   ],
   "source": [
    "e=d.astype(np.float)\n",
    "print(e)"
   ]
  },
  {
   "cell_type": "code",
   "execution_count": 50,
   "metadata": {},
   "outputs": [
    {
     "name": "stdout",
     "output_type": "stream",
     "text": [
      "[ 0  1  2  3  4  5  6  7  8  9 10 11 12 13 14 15 16 17 18 19 20 21 22 23\n",
      " 24 25 26 27 28 29 30 31 32 33 34 35 36 37 38 39 40 41 42 43 44 45 46 47\n",
      " 48 49 50 51 52 53 54 55 56 57 58 59 60 61 62 63 64 65 66 67 68 69 70 71\n",
      " 72 73 74 75 76 77 78 79 80 81 82 83 84 85 86 87 88 89 90 91 92 93 94 95\n",
      " 96 97 98 99]\n"
     ]
    }
   ],
   "source": [
    "e=d.astype(np.int)\n",
    "print(e)"
   ]
  },
  {
   "cell_type": "code",
   "execution_count": 14,
   "metadata": {},
   "outputs": [
    {
     "name": "stdout",
     "output_type": "stream",
     "text": [
      "[[1.99057903e-03 8.96710242e-01 5.56969282e-01 ... 9.38937940e-01\n",
      "  2.78311892e-04 2.10186321e-01]\n",
      " [8.27414567e-01 7.02591525e-01 9.62758611e-01 ... 6.47722556e-01\n",
      "  4.16969132e-01 6.68633083e-01]\n",
      " [4.78993607e-01 7.16329975e-01 1.97952792e-01 ... 3.07572749e-01\n",
      "  6.40796963e-01 4.81824567e-01]\n",
      " ...\n",
      " [4.49255058e-01 9.30669731e-02 9.44409890e-02 ... 3.34435556e-01\n",
      "  5.52049159e-02 9.50767867e-01]\n",
      " [1.70261291e-01 7.32850571e-02 2.84120479e-01 ... 4.42776361e-01\n",
      "  1.00296635e-02 6.36869119e-02]\n",
      " [8.12654052e-01 3.52920729e-01 6.12869248e-01 ... 4.31349560e-01\n",
      "  9.73629686e-01 1.15115821e-01]]\n"
     ]
    }
   ],
   "source": [
    "d=np.random.random((50,100))\n",
    "print(d)"
   ]
  },
  {
   "cell_type": "markdown",
   "metadata": {},
   "source": [
    "# shaping"
   ]
  },
  {
   "cell_type": "code",
   "execution_count": 52,
   "metadata": {
    "scrolled": true
   },
   "outputs": [
    {
     "name": "stdout",
     "output_type": "stream",
     "text": [
      "[[0.7763434  0.9093502  0.00444543 0.99185818]\n",
      " [0.93030778 0.92269845 0.48595145 0.01563255]\n",
      " [0.55844223 0.31676624 0.60299032 0.95315321]]\n",
      "\n",
      "[[0.7763434  0.9093502  0.00444543]\n",
      " [0.99185818 0.93030778 0.92269845]\n",
      " [0.48595145 0.01563255 0.55844223]\n",
      " [0.31676624 0.60299032 0.95315321]]\n"
     ]
    }
   ],
   "source": [
    "h=np.random.random((3,4))\n",
    "j=h.reshape(4,3)\n",
    "print(h)\n",
    "print()\n",
    "print(j)"
   ]
  },
  {
   "cell_type": "code",
   "execution_count": 53,
   "metadata": {},
   "outputs": [
    {
     "name": "stdout",
     "output_type": "stream",
     "text": [
      "[[0.50096423 0.50463613 0.14702192 0.7737415 ]\n",
      " [0.13592141 0.27876727 0.51449619 0.92954669]\n",
      " [0.18778057 0.27069896 0.87387344 0.33146414]]\n",
      "\n",
      "[[0.50096423]\n",
      " [0.50463613]\n",
      " [0.14702192]\n",
      " [0.7737415 ]\n",
      " [0.13592141]\n",
      " [0.27876727]\n",
      " [0.51449619]\n",
      " [0.92954669]\n",
      " [0.18778057]\n",
      " [0.27069896]\n",
      " [0.87387344]\n",
      " [0.33146414]]\n"
     ]
    }
   ],
   "source": [
    "h=np.random.random((3,4))\n",
    "j=h.reshape(12,1)\n",
    "print(h)\n",
    "print()\n",
    "print(j)"
   ]
  },
  {
   "cell_type": "code",
   "execution_count": 54,
   "metadata": {},
   "outputs": [],
   "source": [
    "a=[1,2,3,4,5,6,2,3,4,5,6]"
   ]
  },
  {
   "cell_type": "code",
   "execution_count": 55,
   "metadata": {},
   "outputs": [
    {
     "data": {
      "text/plain": [
       "array([[1, 2, 3, 4, 5, 6],\n",
       "       [3, 4, 5, 6, 7, 8]])"
      ]
     },
     "execution_count": 55,
     "metadata": {},
     "output_type": "execute_result"
    }
   ],
   "source": [
    "a=np.array([[1,2,3,4,5,6],[3,4,5,6,7,8]])\n",
    "a"
   ]
  },
  {
   "cell_type": "code",
   "execution_count": 56,
   "metadata": {},
   "outputs": [
    {
     "data": {
      "text/plain": [
       "array([[1, 3],\n",
       "       [2, 4],\n",
       "       [3, 5],\n",
       "       [4, 6],\n",
       "       [5, 7],\n",
       "       [6, 8]])"
      ]
     },
     "execution_count": 56,
     "metadata": {},
     "output_type": "execute_result"
    }
   ],
   "source": [
    "a.transpose()"
   ]
  },
  {
   "cell_type": "code",
   "execution_count": 57,
   "metadata": {},
   "outputs": [
    {
     "data": {
      "text/plain": [
       "array([0, 1, 2, 3])"
      ]
     },
     "execution_count": 57,
     "metadata": {},
     "output_type": "execute_result"
    }
   ],
   "source": [
    "x=np.arange(4)\n",
    "x1=x.reshape((2,2))\n",
    "x"
   ]
  },
  {
   "cell_type": "code",
   "execution_count": 58,
   "metadata": {},
   "outputs": [
    {
     "data": {
      "text/plain": [
       "array([[0, 2],\n",
       "       [1, 3]])"
      ]
     },
     "execution_count": 58,
     "metadata": {},
     "output_type": "execute_result"
    }
   ],
   "source": [
    "x1.transpose()"
   ]
  },
  {
   "cell_type": "code",
   "execution_count": 59,
   "metadata": {},
   "outputs": [
    {
     "data": {
      "text/plain": [
       "array([0, 1, 2, 3])"
      ]
     },
     "execution_count": 59,
     "metadata": {},
     "output_type": "execute_result"
    }
   ],
   "source": [
    "x=np.arange(4)\n",
    "x\n"
   ]
  },
  {
   "cell_type": "code",
   "execution_count": 60,
   "metadata": {},
   "outputs": [
    {
     "data": {
      "text/plain": [
       "array([[0, 2],\n",
       "       [1, 3]])"
      ]
     },
     "execution_count": 60,
     "metadata": {},
     "output_type": "execute_result"
    }
   ],
   "source": [
    "x1=x.reshape((2,2))\n",
    "x1.transpose()"
   ]
  },
  {
   "cell_type": "code",
   "execution_count": 18,
   "metadata": {},
   "outputs": [
    {
     "data": {
      "text/plain": [
       "array([[0.35809457, 0.99559404, 0.94946151, 0.06007023],\n",
       "       [0.26971249, 0.29842568, 0.04652664, 0.57553522],\n",
       "       [0.24815562, 0.89958735, 0.75698287, 0.50894479],\n",
       "       [0.56819876, 0.52633757, 0.63535969, 0.75494899],\n",
       "       [0.41901348, 0.54030663, 0.47036798, 0.35477619],\n",
       "       [0.85140276, 0.72704175, 0.99496798, 0.28609172],\n",
       "       [0.2218236 , 0.43301892, 0.01081274, 0.74570064],\n",
       "       [0.59275288, 0.95918248, 0.78692333, 0.13293706],\n",
       "       [0.56541035, 0.5332933 , 0.16592953, 0.38324102],\n",
       "       [0.77378265, 0.96565263, 0.43726295, 0.35510424]])"
      ]
     },
     "execution_count": 18,
     "metadata": {},
     "output_type": "execute_result"
    }
   ],
   "source": [
    "x=np.random.random((10,4))\n",
    "x"
   ]
  },
  {
   "cell_type": "code",
   "execution_count": 21,
   "metadata": {},
   "outputs": [
    {
     "data": {
      "text/plain": [
       "array([[0.35809457, 0.75698287, 0.85140276, 0.78692333],\n",
       "       [0.99559404, 0.50894479, 0.72704175, 0.13293706],\n",
       "       [0.94946151, 0.56819876, 0.99496798, 0.56541035],\n",
       "       [0.06007023, 0.52633757, 0.28609172, 0.5332933 ],\n",
       "       [0.26971249, 0.63535969, 0.2218236 , 0.16592953],\n",
       "       [0.29842568, 0.75494899, 0.43301892, 0.38324102],\n",
       "       [0.04652664, 0.41901348, 0.01081274, 0.77378265],\n",
       "       [0.57553522, 0.54030663, 0.74570064, 0.96565263],\n",
       "       [0.24815562, 0.47036798, 0.59275288, 0.43726295],\n",
       "       [0.89958735, 0.35477619, 0.95918248, 0.35510424]])"
      ]
     },
     "execution_count": 21,
     "metadata": {},
     "output_type": "execute_result"
    }
   ],
   "source": [
    "m=x.reshape(4,10)\n",
    "m.transpose()"
   ]
  },
  {
   "cell_type": "code",
   "execution_count": 23,
   "metadata": {
    "scrolled": true
   },
   "outputs": [
    {
     "data": {
      "text/plain": [
       "array([[50, 99, 98, 97, 51, 16],\n",
       "       [12,  3,  1, 49,  0, 70],\n",
       "       [94, 54, 25, 84,  4, 91],\n",
       "       [20, 29, 59, 18,  1, 43],\n",
       "       [86, 93, 73, 98, 35, 34],\n",
       "       [ 1, 34, 47, 92, 74, 12]])"
      ]
     },
     "execution_count": 23,
     "metadata": {},
     "output_type": "execute_result"
    }
   ],
   "source": [
    "np.random.randint(0,100,(6,6))\n"
   ]
  },
  {
   "cell_type": "code",
   "execution_count": 24,
   "metadata": {},
   "outputs": [
    {
     "data": {
      "text/plain": [
       "array([[129, 158, 152, 131, 132, 112],\n",
       "       [112, 177, 142, 131, 146, 174],\n",
       "       [113, 181, 142, 180, 188, 116],\n",
       "       [110, 148, 140, 179, 194, 144],\n",
       "       [188, 182, 128, 123, 109, 181],\n",
       "       [184, 112, 123, 171, 135, 155]])"
      ]
     },
     "execution_count": 24,
     "metadata": {},
     "output_type": "execute_result"
    }
   ],
   "source": [
    "np.random.randint(100,200,(6,6))"
   ]
  },
  {
   "cell_type": "code",
   "execution_count": 65,
   "metadata": {},
   "outputs": [],
   "source": [
    "#a=np.random.randint(0,100,(6,6))\n",
    "#np.random.randint(100,200,(6,6))\n",
    "#np.savez(\"file.npz\",a,b)"
   ]
  },
  {
   "cell_type": "code",
   "execution_count": 68,
   "metadata": {},
   "outputs": [],
   "source": [
    "data=np.load(\"file.npz\")"
   ]
  },
  {
   "cell_type": "code",
   "execution_count": 69,
   "metadata": {},
   "outputs": [
    {
     "data": {
      "text/plain": [
       "numpy.lib.npyio.NpzFile"
      ]
     },
     "execution_count": 69,
     "metadata": {},
     "output_type": "execute_result"
    }
   ],
   "source": [
    "type(data)"
   ]
  },
  {
   "cell_type": "code",
   "execution_count": 94,
   "metadata": {},
   "outputs": [
    {
     "data": {
      "text/plain": [
       "['a', 'b']"
      ]
     },
     "execution_count": 94,
     "metadata": {},
     "output_type": "execute_result"
    }
   ],
   "source": [
    "x=data.files\n",
    "x"
   ]
  },
  {
   "cell_type": "code",
   "execution_count": 96,
   "metadata": {},
   "outputs": [
    {
     "data": {
      "text/plain": [
       "array([[79, 50, 32, 14,  3, 87, 69,  6, 95, 33],\n",
       "       [94, 93, 20, 78, 56, 97, 91, 63, 91, 25],\n",
       "       [74, 47, 69, 57, 61, 12, 36, 62, 49,  3],\n",
       "       [79, 65, 85, 86, 42, 89, 18, 98, 56, 60],\n",
       "       [42, 54,  9, 63, 97, 95, 45, 94, 50, 71],\n",
       "       [14, 92, 35, 88, 70, 94, 73, 24, 52, 20],\n",
       "       [50, 79,  2, 18, 67, 64, 35, 98, 66, 42],\n",
       "       [76, 86, 45, 15, 14, 37, 53, 19, 66, 20],\n",
       "       [23, 33, 23, 59,  8, 92, 45,  9, 36, 71],\n",
       "       [77, 64, 71, 87, 47, 80, 14, 67, 82, 31]])"
      ]
     },
     "execution_count": 96,
     "metadata": {},
     "output_type": "execute_result"
    }
   ],
   "source": [
    "x=data['a']\n",
    "x"
   ]
  },
  {
   "cell_type": "code",
   "execution_count": 78,
   "metadata": {},
   "outputs": [
    {
     "data": {
      "text/plain": [
       "['arr_0', 'arr_1']"
      ]
     },
     "execution_count": 78,
     "metadata": {},
     "output_type": "execute_result"
    }
   ],
   "source": [
    "data.files"
   ]
  },
  {
   "cell_type": "code",
   "execution_count": 80,
   "metadata": {},
   "outputs": [
    {
     "data": {
      "text/plain": [
       "array([[13859, 15017, 17006, ..., 10629, 16014, 11020],\n",
       "       [14782, 19130, 19351, ..., 13102, 17265, 15239],\n",
       "       [19905, 17250, 14000, ..., 10578, 15207, 18633],\n",
       "       ...,\n",
       "       [16893, 19868, 14842, ..., 11658, 11305, 16852],\n",
       "       [10693, 18172, 13731, ..., 12148, 11535, 18659],\n",
       "       [15384, 14718, 16331, ..., 16372, 10189, 13615]])"
      ]
     },
     "execution_count": 80,
     "metadata": {},
     "output_type": "execute_result"
    }
   ],
   "source": [
    "x=data['arr_1']\n",
    "x"
   ]
  },
  {
   "cell_type": "code",
   "execution_count": 25,
   "metadata": {},
   "outputs": [],
   "source": [
    "a=np.random.randint(0,1000,(1000,1000))\n",
    "b=np.random.randint(10000,20000,(1000,1000))\n",
    "np.savez('file.npz',a,b)"
   ]
  },
  {
   "cell_type": "code",
   "execution_count": 82,
   "metadata": {},
   "outputs": [],
   "source": [
    "np.savez_compressed('file1.npz',a,b)"
   ]
  },
  {
   "cell_type": "code",
   "execution_count": 83,
   "metadata": {},
   "outputs": [
    {
     "data": {
      "text/plain": [
       "<numpy.lib.npyio.NpzFile at 0x217c58cb148>"
      ]
     },
     "execution_count": 83,
     "metadata": {},
     "output_type": "execute_result"
    }
   ],
   "source": [
    "data=np.load(\"file.npz\")\n",
    "data"
   ]
  },
  {
   "cell_type": "code",
   "execution_count": 84,
   "metadata": {},
   "outputs": [
    {
     "data": {
      "text/plain": [
       "<numpy.lib.npyio.NpzFile at 0x217c58c2548>"
      ]
     },
     "execution_count": 84,
     "metadata": {},
     "output_type": "execute_result"
    }
   ],
   "source": [
    "data=np.load(\"file1.npz\")\n",
    "data"
   ]
  },
  {
   "cell_type": "code",
   "execution_count": 85,
   "metadata": {},
   "outputs": [
    {
     "data": {
      "text/plain": [
       "array([[18512, 13524, 12251, ..., 17652, 19172, 17808],\n",
       "       [13881, 13554, 15750, ..., 10880, 13773, 14428],\n",
       "       [11778, 14149, 14910, ..., 19281, 18259, 13752],\n",
       "       ...,\n",
       "       [19406, 10783, 17488, ..., 15859, 17546, 18642],\n",
       "       [13498, 12803, 12225, ..., 17885, 18495, 17551],\n",
       "       [10230, 14666, 10039, ..., 12283, 14527, 11852]])"
      ]
     },
     "execution_count": 85,
     "metadata": {},
     "output_type": "execute_result"
    }
   ],
   "source": [
    "v=data['arr_1']\n",
    "v"
   ]
  },
  {
   "cell_type": "code",
   "execution_count": 88,
   "metadata": {},
   "outputs": [
    {
     "name": "stdout",
     "output_type": "stream",
     "text": [
      "['a', 'b']\n"
     ]
    }
   ],
   "source": [
    "a=np.random.randint(0,100,(10,10))\n",
    "b=np.random.randint(100,200,(10,10))\n",
    "np.savez('file2.npz',a=a,b=b)\n",
    "data=np.load('file2.npz')\n",
    "print(data.files)"
   ]
  },
  {
   "cell_type": "code",
   "execution_count": 90,
   "metadata": {},
   "outputs": [
    {
     "data": {
      "text/plain": [
       "array([[79, 50, 32, 14,  3, 87, 69,  6, 95, 33],\n",
       "       [94, 93, 20, 78, 56, 97, 91, 63, 91, 25],\n",
       "       [74, 47, 69, 57, 61, 12, 36, 62, 49,  3],\n",
       "       [79, 65, 85, 86, 42, 89, 18, 98, 56, 60],\n",
       "       [42, 54,  9, 63, 97, 95, 45, 94, 50, 71],\n",
       "       [14, 92, 35, 88, 70, 94, 73, 24, 52, 20],\n",
       "       [50, 79,  2, 18, 67, 64, 35, 98, 66, 42],\n",
       "       [76, 86, 45, 15, 14, 37, 53, 19, 66, 20],\n",
       "       [23, 33, 23, 59,  8, 92, 45,  9, 36, 71],\n",
       "       [77, 64, 71, 87, 47, 80, 14, 67, 82, 31]])"
      ]
     },
     "execution_count": 90,
     "metadata": {},
     "output_type": "execute_result"
    }
   ],
   "source": [
    "x=data['a']\n",
    "x"
   ]
  },
  {
   "cell_type": "code",
   "execution_count": null,
   "metadata": {},
   "outputs": [],
   "source": []
  }
 ],
 "metadata": {
  "kernelspec": {
   "display_name": "Python 3",
   "language": "python",
   "name": "python3"
  },
  "language_info": {
   "codemirror_mode": {
    "name": "ipython",
    "version": 3
   },
   "file_extension": ".py",
   "mimetype": "text/x-python",
   "name": "python",
   "nbconvert_exporter": "python",
   "pygments_lexer": "ipython3",
   "version": "3.7.4"
  }
 },
 "nbformat": 4,
 "nbformat_minor": 2
}
