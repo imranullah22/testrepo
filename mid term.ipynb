{
 "cells": [
  {
   "cell_type": "code",
   "execution_count": null,
   "metadata": {},
   "outputs": [],
   "source": [
    "#Question 1"
   ]
  },
  {
   "cell_type": "code",
   "execution_count": 69,
   "metadata": {},
   "outputs": [],
   "source": [
    "def cube(s):\n",
    "    t=[]\n",
    "    for i in s:\n",
    "        t.append(i**3) \n",
    "    return t    "
   ]
  },
  {
   "cell_type": "code",
   "execution_count": 70,
   "metadata": {},
   "outputs": [
    {
     "data": {
      "text/plain": [
       "[1, 8, 27, 64]"
      ]
     },
     "execution_count": 70,
     "metadata": {},
     "output_type": "execute_result"
    }
   ],
   "source": [
    "s=[1,2,3,4]\n",
    "cube(s)"
   ]
  },
  {
   "cell_type": "code",
   "execution_count": 57,
   "metadata": {},
   "outputs": [],
   "source": [
    "#Question 6"
   ]
  },
  {
   "cell_type": "code",
   "execution_count": 71,
   "metadata": {},
   "outputs": [],
   "source": [
    "def reverse1(a):\n",
    "    le=len(a)-1\n",
    "    b=[]\n",
    "    while(le>=0):\n",
    "        b.append(a[le])\n",
    "        le=le-1\n",
    "    return b    \n",
    "           "
   ]
  },
  {
   "cell_type": "code",
   "execution_count": 72,
   "metadata": {},
   "outputs": [
    {
     "data": {
      "text/plain": [
       "['tomato', 'banana', 'oranges', 'mango', 'apple']"
      ]
     },
     "execution_count": 72,
     "metadata": {},
     "output_type": "execute_result"
    }
   ],
   "source": [
    "a=[\"apple\",\"mango\",\"oranges\",\"banana\",\"tomato\"]\n",
    "reverse1(a)"
   ]
  },
  {
   "cell_type": "code",
   "execution_count": null,
   "metadata": {},
   "outputs": [],
   "source": [
    "#Question 2"
   ]
  },
  {
   "cell_type": "code",
   "execution_count": 74,
   "metadata": {},
   "outputs": [
    {
     "name": "stdout",
     "output_type": "stream",
     "text": [
      "m\n",
      "a\n",
      "x\n",
      "e\n"
     ]
    }
   ],
   "source": [
    "str1=\"exam\"\n",
    "y=len(str1)-1\n",
    "while(y>=0):\n",
    "    print(str1[y])\n",
    "    y=y-1"
   ]
  },
  {
   "cell_type": "code",
   "execution_count": 75,
   "metadata": {},
   "outputs": [],
   "source": [
    "# question 4"
   ]
  },
  {
   "cell_type": "code",
   "execution_count": 77,
   "metadata": {},
   "outputs": [
    {
     "name": "stdout",
     "output_type": "stream",
     "text": [
      "Enter a character: 4\n",
      "4 is a Consonant\n"
     ]
    }
   ],
   "source": [
    "a= input(\"Enter a character: \")\n",
    "\n",
    "if(a=='A' or a=='a' or a=='E' or a =='e' or a=='I'\n",
    " or a=='i' or a=='O' or a=='o' or a=='U' or a=='u'):\n",
    "    print(a, \"is a Vowel\")\n",
    "else:\n",
    "    print(a, \"is a Consonant\")"
   ]
  },
  {
   "cell_type": "code",
   "execution_count": null,
   "metadata": {},
   "outputs": [],
   "source": [
    "# question no 1"
   ]
  },
  {
   "cell_type": "code",
   "execution_count": 79,
   "metadata": {},
   "outputs": [
    {
     "name": "stdout",
     "output_type": "stream",
     "text": [
      "dad is plandrom\n"
     ]
    }
   ],
   "source": [
    "s=\"dad\"\n",
    "if s:\n",
    "    print(s,\"is plandrom\")\n",
    "else:\n",
    "    print(s,\"is not plandrom\")\n"
   ]
  },
  {
   "cell_type": "code",
   "execution_count": 82,
   "metadata": {},
   "outputs": [
    {
     "name": "stdout",
     "output_type": "stream",
     "text": [
      "dad is plandrom\n"
     ]
    }
   ],
   "source": [
    "def Palindrom(s):\n",
    "    return s == s[::-1]\n",
    "if s:\n",
    "    print(s,\"is plandrom\")\n",
    "else:\n",
    "    print(s,\"is not plandrom\")\n"
   ]
  },
  {
   "cell_type": "code",
   "execution_count": 83,
   "metadata": {},
   "outputs": [],
   "source": [
    "s=\"dad\"\n",
    "a=Palindrom(s)"
   ]
  },
  {
   "cell_type": "code",
   "execution_count": null,
   "metadata": {},
   "outputs": [],
   "source": []
  }
 ],
 "metadata": {
  "kernelspec": {
   "display_name": "Python 3",
   "language": "python",
   "name": "python3"
  },
  "language_info": {
   "codemirror_mode": {
    "name": "ipython",
    "version": 3
   },
   "file_extension": ".py",
   "mimetype": "text/x-python",
   "name": "python",
   "nbconvert_exporter": "python",
   "pygments_lexer": "ipython3",
   "version": "3.7.4"
  }
 },
 "nbformat": 4,
 "nbformat_minor": 2
}
