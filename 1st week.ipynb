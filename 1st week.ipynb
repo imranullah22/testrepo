{
 "cells": [
  {
   "cell_type": "code",
   "execution_count": 1,
   "metadata": {},
   "outputs": [
    {
     "name": "stdout",
     "output_type": "stream",
     "text": [
      "which means it has been ever more than 76 quirks\n"
     ]
    }
   ],
   "source": [
    "str1 =\"which means it has been ever more than \"\n",
    "str2=76\n",
    "str3=\" quirks\"\n",
    "print(str1+str(str2)+str3)\n"
   ]
  },
  {
   "cell_type": "code",
   "execution_count": 2,
   "metadata": {},
   "outputs": [
    {
     "name": "stdout",
     "output_type": "stream",
     "text": [
      "which means it has been ever more than  76  quirks\n"
     ]
    }
   ],
   "source": [
    "print(str1,str(str2),str3);"
   ]
  },
  {
   "cell_type": "code",
   "execution_count": 3,
   "metadata": {},
   "outputs": [
    {
     "name": "stdout",
     "output_type": "stream",
     "text": [
      "executing else\n",
      "print regardsies of the outcome of the if-else block\n"
     ]
    }
   ],
   "source": [
    "x=False\n",
    "if x:\n",
    "    print(\"executing if\")\n",
    "else:\n",
    "    print(\"executing else\")\n",
    "print(\"print regardsies of the outcome of the if-else block\")"
   ]
  },
  {
   "cell_type": "code",
   "execution_count": 4,
   "metadata": {},
   "outputs": [
    {
     "name": "stdout",
     "output_type": "stream",
     "text": [
      "executing if \n",
      "print regardsies of the outcome of the if-else block\n"
     ]
    }
   ],
   "source": [
    "x=True\n",
    "if x:\n",
    "    print(\"executing if \")\n",
    "else:\n",
    "    print(\"executing else\")\n",
    "print(\"print regardsies of the outcome of the if-else block\")    "
   ]
  },
  {
   "cell_type": "code",
   "execution_count": 5,
   "metadata": {},
   "outputs": [
    {
     "name": "stdout",
     "output_type": "stream",
     "text": [
      "21 is odd\n"
     ]
    }
   ],
   "source": [
    "num=21\n",
    "if num%2==0:\n",
    "    print(int(num),\"is even\")\n",
    "else:\n",
    "     print(num,\"is odd\")"
   ]
  },
  {
   "cell_type": "code",
   "execution_count": 3,
   "metadata": {},
   "outputs": [
    {
     "name": "stdout",
     "output_type": "stream",
     "text": [
      "20 is even\n"
     ]
    }
   ],
   "source": [
    "num=20\n",
    "if num%2==0:\n",
    "    print(num ,\"is even\")\n",
    "else:\n",
    "    print(num,\"is odd\")"
   ]
  },
  {
   "cell_type": "code",
   "execution_count": 1,
   "metadata": {},
   "outputs": [
    {
     "name": "stdout",
     "output_type": "stream",
     "text": [
      "numbr is out of range\n"
     ]
    }
   ],
   "source": [
    "number=230\n",
    "if number<=10:\n",
    "    print(\"number is in 10 range\")\n",
    "elif number<=20:\n",
    "     print(\"number is in 20 range\")\n",
    "elif number<=30:\n",
    "    print(\"number are in 30 range\")\n",
    "else:\n",
    "    print(\"numbr is out of range\")"
   ]
  },
  {
   "cell_type": "code",
   "execution_count": 3,
   "metadata": {},
   "outputs": [
    {
     "name": "stdout",
     "output_type": "stream",
     "text": [
      "0 pakistan\n",
      "1 pakistan\n",
      "2 pakistan\n",
      "3 pakistan\n",
      "4 pakistan\n"
     ]
    }
   ],
   "source": [
    "for i in range(0,5):\n",
    "    print(i,\"pakistan\")"
   ]
  },
  {
   "cell_type": "code",
   "execution_count": 7,
   "metadata": {},
   "outputs": [
    {
     "name": "stdout",
     "output_type": "stream",
     "text": [
      "5 x 1 = 5\n",
      "5 x 2 = 10\n",
      "5 x 3 = 15\n",
      "5 x 4 = 20\n",
      "5 x 5 = 25\n",
      "5 x 6 = 30\n",
      "5 x 7 = 35\n",
      "5 x 8 = 40\n",
      "5 x 9 = 45\n",
      "5 x 10 = 50\n"
     ]
    }
   ],
   "source": [
    "num=5\n",
    "for i in range(1,11):\n",
    "    print(num ,\"x\",i ,\"=\" ,num*i)"
   ]
  },
  {
   "cell_type": "code",
   "execution_count": 5,
   "metadata": {
    "scrolled": true
   },
   "outputs": [
    {
     "name": "stdout",
     "output_type": "stream",
     "text": [
      "5 x 1 = 5\n",
      "5 x 2 = 10\n",
      "5 x 3 = 15\n",
      "5 x 4 = 20\n",
      "5 x 5 = 25\n",
      "5 x 6 = 30\n",
      "5 x 7 = 35\n",
      "5 x 8 = 40\n",
      "5 x 9 = 45\n",
      "5 x 10 = 50\n"
     ]
    }
   ],
   "source": [
    "num=5\n",
    "n=1\n",
    "while n<=10:\n",
    "    print(num,\"x\",n,\"=\",n*num)\n",
    "    n=n+1"
   ]
  },
  {
   "cell_type": "code",
   "execution_count": 6,
   "metadata": {},
   "outputs": [
    {
     "name": "stdout",
     "output_type": "stream",
     "text": [
      "1 peshawar\n",
      "2 peshawar\n",
      "3 peshawar\n",
      "4 peshawar\n",
      "5 peshawar\n",
      "6 peshawar\n",
      "7 peshawar\n",
      "8 peshawar\n",
      "9 peshawar\n",
      "10 peshawar\n"
     ]
    }
   ],
   "source": [
    "z=1\n",
    "while z<=10:\n",
    "    print(z,\"peshawar\")\n",
    "    z=z+1\n",
    " "
   ]
  },
  {
   "cell_type": "code",
   "execution_count": 8,
   "metadata": {},
   "outputs": [
    {
     "name": "stdout",
     "output_type": "stream",
     "text": [
      "6 x 1 = 6\n",
      "6 x 2 = 12\n",
      "6 x 3 = 18\n",
      "6 x 4 = 24\n",
      "6 x 5 = 30\n",
      "6 x 6 = 36\n",
      "6 x 7 = 42\n",
      "6 x 8 = 48\n",
      "6 x 9 = 54\n",
      "6 x 10 = 60\n"
     ]
    }
   ],
   "source": [
    "num=6\n",
    "z=1\n",
    "while z<=10:\n",
    "    print(num,\"x\",z,\"=\",num*z)\n",
    "    z=z+1"
   ]
  },
  {
   "cell_type": "code",
   "execution_count": 21,
   "metadata": {},
   "outputs": [
    {
     "name": "stdout",
     "output_type": "stream",
     "text": [
      "2\n",
      "4\n",
      "6\n",
      "8\n",
      "10\n",
      "12\n",
      "14\n",
      "16\n",
      "18\n"
     ]
    }
   ],
   "source": [
    "for i in range(1,20):\n",
    "    if i%2==1:\n",
    "        continue\n",
    "    else:\n",
    "        print(i)"
   ]
  },
  {
   "cell_type": "code",
   "execution_count": 22,
   "metadata": {
    "scrolled": true
   },
   "outputs": [
    {
     "name": "stdout",
     "output_type": "stream",
     "text": [
      "1\n",
      "3\n",
      "5\n",
      "7\n",
      "9\n",
      "11\n",
      "13\n",
      "15\n",
      "17\n",
      "19\n"
     ]
    }
   ],
   "source": [
    "for i in range(1,20):\n",
    "    if i%2==0:\n",
    "        continue\n",
    "    else:\n",
    "        print(i)"
   ]
  },
  {
   "cell_type": "code",
   "execution_count": 67,
   "metadata": {},
   "outputs": [
    {
     "name": "stdout",
     "output_type": "stream",
     "text": [
      "my favourite number is 7\n",
      "my favourite number is 8\n",
      "my favourite number is 10\n"
     ]
    }
   ],
   "source": [
    "def printnum(num):\n",
    "    print(\"my favourite number is\",num)\n",
    "printnum(7)\n",
    "printnum(8)\n",
    "printnum(10)"
   ]
  },
  {
   "cell_type": "code",
   "execution_count": 91,
   "metadata": {
    "scrolled": true
   },
   "outputs": [
    {
     "name": "stdout",
     "output_type": "stream",
     "text": [
      "22 is even\n"
     ]
    }
   ],
   "source": [
    "def printnum(num):\n",
    "    if num%2==0:        \n",
    "        print(num,\"is even\")\n",
    "    else:\n",
    "     print(num, \"is odd number\")\n",
    "printnum(22)\n"
   ]
  },
  {
   "cell_type": "code",
   "execution_count": 33,
   "metadata": {},
   "outputs": [],
   "source": [
    "def printnum(num):\n",
    "    for i in num:\n",
    "        if i%2==0:\n",
    "            i+=1\n",
    "            continue\n",
    "        else:\n",
    "            print(i)"
   ]
  },
  {
   "cell_type": "code",
   "execution_count": 34,
   "metadata": {},
   "outputs": [
    {
     "name": "stdout",
     "output_type": "stream",
     "text": [
      "1\n",
      "3\n",
      "5\n",
      "7\n",
      "9\n",
      "11\n",
      "13\n",
      "15\n"
     ]
    }
   ],
   "source": [
    "num=(1,2,3,4,5,6,7,8,9,11,12,13,14,15)\n",
    "printnum(num)"
   ]
  },
  {
   "cell_type": "code",
   "execution_count": 57,
   "metadata": {},
   "outputs": [
    {
     "name": "stdout",
     "output_type": "stream",
     "text": [
      "number rounded down\n",
      "final answer is  3.0\n"
     ]
    }
   ],
   "source": [
    "x=3.4\n",
    "remainder=x%1\n",
    "if remainder < 0.5:\n",
    "    print(\"number rounded down\")\n",
    "    x=x-remainder\n",
    "else:\n",
    "    print(\"number is rounded up\")\n",
    "    x=x+(1-remainder)\n",
    "print(\"final answer is \",x)    \n",
    "    "
   ]
  },
  {
   "cell_type": "code",
   "execution_count": 35,
   "metadata": {},
   "outputs": [],
   "source": [
    "def roundup(x):\n",
    "    remainder=x%1\n",
    "    if remainder < 0.5:\n",
    "        print(\"number rounded down\")\n",
    "        x=x-remainder\n",
    "    else:\n",
    "        print(\"number is rounded up\")\n",
    "        x=x+(1-remainder)\n",
    "    return x\n",
    "        "
   ]
  },
  {
   "cell_type": "code",
   "execution_count": 36,
   "metadata": {},
   "outputs": [
    {
     "name": "stdout",
     "output_type": "stream",
     "text": [
      "number rounded down\n"
     ]
    },
    {
     "data": {
      "text/plain": [
       "364.0"
      ]
     },
     "execution_count": 36,
     "metadata": {},
     "output_type": "execute_result"
    }
   ],
   "source": [
    "roundup(364.4)"
   ]
  },
  {
   "cell_type": "code",
   "execution_count": 41,
   "metadata": {},
   "outputs": [],
   "source": [
    "def real(x):\n",
    "    remainder=x%1\n",
    "    if remainder <0.5:\n",
    "        print(\"number is round down\")\n",
    "        x=x-remainder\n",
    "    else:\n",
    "        print(\"number is rounded up\")\n",
    "        x=x+(1-remainder)\n",
    "    return(x)"
   ]
  },
  {
   "cell_type": "code",
   "execution_count": 42,
   "metadata": {},
   "outputs": [
    {
     "name": "stdout",
     "output_type": "stream",
     "text": [
      "number is rounded up\n"
     ]
    },
    {
     "data": {
      "text/plain": [
       "4.0"
      ]
     },
     "execution_count": 42,
     "metadata": {},
     "output_type": "execute_result"
    }
   ],
   "source": [
    "real(3.8)\n"
   ]
  },
  {
   "cell_type": "code",
   "execution_count": 44,
   "metadata": {},
   "outputs": [],
   "source": [
    "def simple2(x,y):\n",
    "    y=int(y) \n",
    "    print(\"addition of\",x,\"and\",y,\"=\", x+y)\n",
    "    print(\"subtraction of\",x,\"and\",y,\"=\",x-y)\n",
    "    print(\"multiplication of\",x,\"and\",y,\"=\",x*y)\n",
    "    print(\"division of\",x,\"and\",y,\"=\",x/y)\n",
    "    return(x,y)"
   ]
  },
  {
   "cell_type": "code",
   "execution_count": 45,
   "metadata": {},
   "outputs": [
    {
     "name": "stdout",
     "output_type": "stream",
     "text": [
      "addition of 20 and 35 = 55\n",
      "subtraction of 20 and 35 = -15\n",
      "multiplication of 20 and 35 = 700\n",
      "division of 20 and 35 = 0.5714285714285714\n"
     ]
    },
    {
     "data": {
      "text/plain": [
       "(20, 35)"
      ]
     },
     "execution_count": 45,
     "metadata": {},
     "output_type": "execute_result"
    }
   ],
   "source": [
    "simple2(20,\"35\")"
   ]
  },
  {
   "cell_type": "code",
   "execution_count": 46,
   "metadata": {},
   "outputs": [],
   "source": [
    "def prime2(x):\n",
    "    result=0\n",
    "    for y in range(2,x):\n",
    "        if x%y==0:\n",
    "            result=1\n",
    "            print(x,\"number is not prime number\")\n",
    "            break\n",
    "    if(result==0):\n",
    "        print(x,\"number is prime\")"
   ]
  },
  {
   "cell_type": "code",
   "execution_count": 47,
   "metadata": {},
   "outputs": [
    {
     "name": "stdout",
     "output_type": "stream",
     "text": [
      "24 number is not prime number\n"
     ]
    }
   ],
   "source": [
    "prime2(24)"
   ]
  },
  {
   "cell_type": "code",
   "execution_count": 20,
   "metadata": {},
   "outputs": [
    {
     "name": "stdout",
     "output_type": "stream",
     "text": [
      "6\n"
     ]
    }
   ],
   "source": [
    "str=\"phyton\"\n",
    "print(len(str))"
   ]
  },
  {
   "cell_type": "code",
   "execution_count": 210,
   "metadata": {},
   "outputs": [
    {
     "name": "stdout",
     "output_type": "stream",
     "text": [
      "t\n"
     ]
    }
   ],
   "source": [
    "print(str[3])"
   ]
  },
  {
   "cell_type": "code",
   "execution_count": 211,
   "metadata": {},
   "outputs": [
    {
     "name": "stdout",
     "output_type": "stream",
     "text": [
      "<class 'str'>\n"
     ]
    }
   ],
   "source": [
    "print(type(str))"
   ]
  },
  {
   "cell_type": "code",
   "execution_count": 233,
   "metadata": {
    "scrolled": true
   },
   "outputs": [
    {
     "name": "stdout",
     "output_type": "stream",
     "text": [
      "n\n",
      "o\n",
      "t\n",
      "y\n",
      "h\n",
      "p\n",
      " \n",
      "n\n",
      "i\n",
      " \n",
      "e\n",
      "m\n",
      "a\n",
      "r\n",
      "g\n",
      "o\n",
      "r\n",
      "p\n",
      " \n",
      "d\n",
      "e\n",
      "c\n",
      "n\n",
      "a\n",
      "v\n",
      "d\n",
      "a\n"
     ]
    }
   ],
   "source": [
    "str1=\"advanced programe in phyton\"\n",
    "y=len(str1)-1\n",
    "while(y>=0):\n",
    "    print(str1[y])\n",
    "    y=y-1"
   ]
  },
  {
   "cell_type": "code",
   "execution_count": 1,
   "metadata": {},
   "outputs": [
    {
     "name": "stdout",
     "output_type": "stream",
     "text": [
      "2 python\n",
      "4 python\n",
      "6 python\n",
      "8 python\n"
     ]
    }
   ],
   "source": [
    "for i in range(1,10):\n",
    "    if i%2 == 0:\n",
    "     print(i,\"python\")"
   ]
  },
  {
   "cell_type": "code",
   "execution_count": 49,
   "metadata": {},
   "outputs": [
    {
     "name": "stdout",
     "output_type": "stream",
     "text": [
      "r a m\n"
     ]
    }
   ],
   "source": [
    "str1=\"programming\"\n",
    "y=len(str1)-1\n",
    "y=y/2\n",
    "y=(int(y))\n",
    "print(str1[y-1],str1[y],str1[y+1])"
   ]
  },
  {
   "cell_type": "code",
   "execution_count": 50,
   "metadata": {},
   "outputs": [],
   "source": [
    "def simpl(str1):\n",
    "    y=len(str1)-1\n",
    "    y=y/2\n",
    "    y=(int(y))\n",
    "    print(str1[y-1],str1[y],str1[y+1])"
   ]
  },
  {
   "cell_type": "code",
   "execution_count": 51,
   "metadata": {},
   "outputs": [
    {
     "name": "stdout",
     "output_type": "stream",
     "text": [
      "r a m\n"
     ]
    }
   ],
   "source": [
    "simpl(\"programming\")"
   ]
  },
  {
   "cell_type": "code",
   "execution_count": 52,
   "metadata": {},
   "outputs": [],
   "source": [
    "def simple1(s1,s2):\n",
    "    middle=round(len(s1)/2)\n",
    "    s=s1[:middle:]\n",
    "    t=s1[middle:]\n",
    "    s3=s+s2+t\n",
    "    print(s3)"
   ]
  },
  {
   "cell_type": "code",
   "execution_count": 53,
   "metadata": {
    "scrolled": true
   },
   "outputs": [
    {
     "name": "stdout",
     "output_type": "stream",
     "text": [
      "aukellylt\n"
     ]
    }
   ],
   "source": [
    "simple1(\"ault\",\"kelly\")"
   ]
  },
  {
   "cell_type": "code",
   "execution_count": 56,
   "metadata": {
    "scrolled": false
   },
   "outputs": [],
   "source": [
    "def del1(st):    \n",
    "    dl=\",\"\n",
    "    count=0\n",
    "    length=len(st)\n",
    "    for i in range(0,length):\n",
    "        if dl[0] == st[i]:\n",
    "            count=count+1\n",
    "    print(count)"
   ]
  },
  {
   "cell_type": "code",
   "execution_count": 57,
   "metadata": {
    "scrolled": true
   },
   "outputs": [
    {
     "name": "stdout",
     "output_type": "stream",
     "text": [
      "1\n"
     ]
    }
   ],
   "source": [
    "st=(\"hello, this is our class this is laptopvthis is university\")\n",
    "del1(st)"
   ]
  },
  {
   "cell_type": "code",
   "execution_count": 58,
   "metadata": {
    "scrolled": true
   },
   "outputs": [],
   "source": [
    "def stringcount(str1,str2):\n",
    "    count=0\n",
    "    for i in range(0,len(str1)):\n",
    "        if str2[0]==str1[i]:\n",
    "            count=count+1\n",
    "    print(count)"
   ]
  },
  {
   "cell_type": "code",
   "execution_count": 59,
   "metadata": {},
   "outputs": [
    {
     "name": "stdout",
     "output_type": "stream",
     "text": [
      "8\n"
     ]
    }
   ],
   "source": [
    "stringcount(\"hello, this is our class this is laptopvthis is university\",\"is\")"
   ]
  },
  {
   "cell_type": "code",
   "execution_count": 60,
   "metadata": {},
   "outputs": [],
   "source": [
    "def simple1(n,x):\n",
    "    val1=n\n",
    "    val2=x\n",
    "    sum1=val1+val2\n",
    "    #return sum1\n",
    "    print(val1,\"+\",val2,\"=\",sum1)\n",
    "    #return sample1(val2,sum1)"
   ]
  },
  {
   "cell_type": "code",
   "execution_count": 61,
   "metadata": {},
   "outputs": [
    {
     "name": "stdout",
     "output_type": "stream",
     "text": [
      "2 + 3 = 5\n"
     ]
    }
   ],
   "source": [
    "simple1(2,3)"
   ]
  },
  {
   "cell_type": "code",
   "execution_count": 46,
   "metadata": {},
   "outputs": [],
   "source": [
    "def sam(m,n):\n",
    "    val1=m\n",
    "    val2=n\n",
    "    addition=val1+val2\n",
    "    multiplication=val1*val2\n",
    "    subtraction=val1-val2\n",
    "    division=val1/val2\n",
    "    mod=val1%val2\n",
    "    print(val1,\"+\",val2,\"=\",addition)\n",
    "    print(val1,\"x\",val2,\"=\",multiplication)\n",
    "    print(val1,\"-\",val2,\"=\",subtraction)\n",
    "    print(val1,\"/\",val2,\"=\",division)\n",
    "    print(val1,\"%\",val2,\"=\",mod)"
   ]
  },
  {
   "cell_type": "code",
   "execution_count": 47,
   "metadata": {},
   "outputs": [
    {
     "name": "stdout",
     "output_type": "stream",
     "text": [
      "8 + 4 = 12\n",
      "8 x 4 = 32\n",
      "8 - 4 = 4\n",
      "8 / 4 = 2.0\n",
      "8 % 4 = 0\n"
     ]
    }
   ],
   "source": [
    "sam(8,4)"
   ]
  },
  {
   "cell_type": "code",
   "execution_count": null,
   "metadata": {},
   "outputs": [],
   "source": [
    "n=int(input(\"enter the number\"))\n",
    "prod=1\n",
    "while n>1:\n",
    "    prod=prod*n\n",
    "    n=n+1\n",
    "print(prod)"
   ]
  },
  {
   "cell_type": "code",
   "execution_count": null,
   "metadata": {},
   "outputs": [],
   "source": [
    "def cube1(x):\n",
    "    x=x**3\n",
    "    return x"
   ]
  },
  {
   "cell_type": "code",
   "execution_count": null,
   "metadata": {},
   "outputs": [],
   "source": [
    "cube1(9)"
   ]
  },
  {
   "cell_type": "code",
   "execution_count": null,
   "metadata": {},
   "outputs": [],
   "source": [
    "def product1(y,z):\n",
    "    prod=y*z\n",
    "    return prod"
   ]
  },
  {
   "cell_type": "code",
   "execution_count": null,
   "metadata": {},
   "outputs": [],
   "source": [
    "def addition1(c,d,e):\n",
    "    result=c+d+e\n",
    "    return result"
   ]
  },
  {
   "cell_type": "code",
   "execution_count": null,
   "metadata": {},
   "outputs": [],
   "source": [
    "def final(a,b,c):\n",
    "    final result=addition1(cube1(a),cube1(b),cube1(c)+3*addition1(product1(a,b),product1(b,c),product1(c,a)))\n",
    "    return a,b,c"
   ]
  },
  {
   "cell_type": "code",
   "execution_count": null,
   "metadata": {},
   "outputs": [],
   "source": [
    "final(2,4,5)"
   ]
  },
  {
   "cell_type": "code",
   "execution_count": null,
   "metadata": {},
   "outputs": [],
   "source": []
  },
  {
   "cell_type": "code",
   "execution_count": null,
   "metadata": {},
   "outputs": [],
   "source": []
  }
 ],
 "metadata": {
  "kernelspec": {
   "display_name": "Python 3",
   "language": "python",
   "name": "python3"
  },
  "language_info": {
   "codemirror_mode": {
    "name": "ipython",
    "version": 3
   },
   "file_extension": ".py",
   "mimetype": "text/x-python",
   "name": "python",
   "nbconvert_exporter": "python",
   "pygments_lexer": "ipython3",
   "version": "3.7.4"
  }
 },
 "nbformat": 4,
 "nbformat_minor": 2
}
