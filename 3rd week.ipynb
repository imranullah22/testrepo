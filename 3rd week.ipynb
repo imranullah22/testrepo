{
 "cells": [
  {
   "cell_type": "code",
   "execution_count": 1,
   "metadata": {},
   "outputs": [
    {
     "data": {
      "text/plain": [
       "[1, 2, 3.4, 5.5]"
      ]
     },
     "execution_count": 1,
     "metadata": {},
     "output_type": "execute_result"
    }
   ],
   "source": [
    "a=[1,2,3.4,5.5]\n",
    "a"
   ]
  },
  {
   "cell_type": "code",
   "execution_count": 2,
   "metadata": {},
   "outputs": [
    {
     "data": {
      "text/plain": [
       "list"
      ]
     },
     "execution_count": 2,
     "metadata": {},
     "output_type": "execute_result"
    }
   ],
   "source": [
    "type(a)"
   ]
  },
  {
   "cell_type": "code",
   "execution_count": 4,
   "metadata": {},
   "outputs": [],
   "source": [
    "a.append(3.3)"
   ]
  },
  {
   "cell_type": "code",
   "execution_count": 5,
   "metadata": {},
   "outputs": [
    {
     "data": {
      "text/plain": [
       "[1, 2, 3.4, 5.5, 3.3]"
      ]
     },
     "execution_count": 5,
     "metadata": {},
     "output_type": "execute_result"
    }
   ],
   "source": [
    "a"
   ]
  },
  {
   "cell_type": "code",
   "execution_count": 1,
   "metadata": {},
   "outputs": [],
   "source": [
    "dic1={0:\"saudi\",1:\"pakistan\",2:\"india\",3:\"australia\",4:\"afghanistan\"}\n"
   ]
  },
  {
   "cell_type": "code",
   "execution_count": 5,
   "metadata": {
    "scrolled": true
   },
   "outputs": [
    {
     "name": "stdout",
     "output_type": "stream",
     "text": [
      "saudi\n",
      "pakistan\n",
      "india\n",
      "australia\n",
      "afghanistan\n"
     ]
    }
   ],
   "source": [
    "for i in range(5):\n",
    "    print(dic1[i])\n",
    "    "
   ]
  },
  {
   "cell_type": "code",
   "execution_count": 11,
   "metadata": {},
   "outputs": [
    {
     "name": "stdout",
     "output_type": "stream",
     "text": [
      "saudi\n",
      "pakistan\n",
      "india\n",
      "australia\n",
      "afghanistan\n"
     ]
    }
   ],
   "source": [
    "di={0:\"saudi\",1:\"pakistan\",2:\"india\",3:\"australia\",4:\"afghanistan\"}\n",
    "for i in range(5):\n",
    "    print(di[i])"
   ]
  },
  {
   "cell_type": "code",
   "execution_count": 20,
   "metadata": {},
   "outputs": [],
   "source": [
    "c=[1,2,3,4]\n",
    "result=1"
   ]
  },
  {
   "cell_type": "code",
   "execution_count": 21,
   "metadata": {
    "scrolled": true
   },
   "outputs": [
    {
     "name": "stdout",
     "output_type": "stream",
     "text": [
      "1\n",
      "2\n",
      "6\n",
      "24\n"
     ]
    }
   ],
   "source": [
    "for i in c:\n",
    "    result=result*i\n",
    "    print(result)"
   ]
  },
  {
   "cell_type": "code",
   "execution_count": 17,
   "metadata": {},
   "outputs": [
    {
     "name": "stdout",
     "output_type": "stream",
     "text": [
      "4\n",
      "12\n",
      "48\n",
      "240\n"
     ]
    }
   ],
   "source": [
    "d=[2,3,4,5]\n",
    "res=2\n",
    "for i in d:\n",
    "    res=res*i\n",
    "    print(res)"
   ]
  },
  {
   "cell_type": "code",
   "execution_count": 109,
   "metadata": {},
   "outputs": [],
   "source": [
    "def largist(d):\n",
    "    #num=d\n",
    "    for i in d:\n",
    "       i=max(d)\n",
    "    return(i)        "
   ]
  },
  {
   "cell_type": "code",
   "execution_count": 110,
   "metadata": {},
   "outputs": [
    {
     "data": {
      "text/plain": [
       "19"
      ]
     },
     "execution_count": 110,
     "metadata": {},
     "output_type": "execute_result"
    }
   ],
   "source": [
    "d=[3,11,6,7,8,4,2,1,5,9,12,13,14,19,0]\n",
    "largist(d)"
   ]
  },
  {
   "cell_type": "code",
   "execution_count": 2,
   "metadata": {},
   "outputs": [],
   "source": [
    "def smallest(d):\n",
    "    num=d\n",
    "    for i in num:\n",
    "        i=min(num)\n",
    "    return(i)    "
   ]
  },
  {
   "cell_type": "code",
   "execution_count": 3,
   "metadata": {},
   "outputs": [
    {
     "data": {
      "text/plain": [
       "0"
      ]
     },
     "execution_count": 3,
     "metadata": {},
     "output_type": "execute_result"
    }
   ],
   "source": [
    "d=[3,11,6,7,8,4,2,1,5,9,12,13,14,19,0]\n",
    "smallest(d)"
   ]
  },
  {
   "cell_type": "code",
   "execution_count": 120,
   "metadata": {},
   "outputs": [
    {
     "name": "stdout",
     "output_type": "stream",
     "text": [
      "[6, 128, 106, 79, 32, 175, 37, 144, 70, 21, 17, 59, 48, 13, 139, 127, 67, 121, 124, 149, 185, 187, 28, 55, 77, 192, 135, 141, 95, 133, 80, 114, 180, 29, 104, 143, 199, 148, 182, 193, 11, 18, 140, 176, 42, 109, 50, 195, 12, 73, 177, 5, 119, 26, 125, 113, 10, 146, 3, 16, 99, 65, 170, 198, 62, 163, 86, 160, 85, 45, 102, 91, 194, 116, 90, 158, 36, 41, 27, 110]\n"
     ]
    }
   ],
   "source": [
    "import random\n",
    "e=random.sample(range(0,200),80)\n",
    "print(e)"
   ]
  },
  {
   "cell_type": "code",
   "execution_count": 125,
   "metadata": {},
   "outputs": [],
   "source": [
    "def largist1(e):\n",
    "    ln=e[0]\n",
    "    for i in e:\n",
    "        if i>ln:\n",
    "            ln=i\n",
    "    return ln        \n",
    "            "
   ]
  },
  {
   "cell_type": "code",
   "execution_count": 126,
   "metadata": {},
   "outputs": [
    {
     "data": {
      "text/plain": [
       "199"
      ]
     },
     "execution_count": 126,
     "metadata": {},
     "output_type": "execute_result"
    }
   ],
   "source": [
    "largist1(e)"
   ]
  },
  {
   "cell_type": "code",
   "execution_count": 127,
   "metadata": {},
   "outputs": [],
   "source": [
    "def smallest1(e):\n",
    "    ln=e[0]\n",
    "    for i in e:\n",
    "        if i<ln:\n",
    "            ln=i\n",
    "    return ln        "
   ]
  },
  {
   "cell_type": "code",
   "execution_count": 128,
   "metadata": {},
   "outputs": [
    {
     "data": {
      "text/plain": [
       "3"
      ]
     },
     "execution_count": 128,
     "metadata": {},
     "output_type": "execute_result"
    }
   ],
   "source": [
    "smallest1(e)"
   ]
  },
  {
   "cell_type": "code",
   "execution_count": 70,
   "metadata": {},
   "outputs": [
    {
     "name": "stdout",
     "output_type": "stream",
     "text": [
      "*\n",
      "**\n",
      "***\n",
      "****\n",
      "*****\n"
     ]
    }
   ],
   "source": [
    "num=5 \n",
    "for i in range(1,num+1):\n",
    "    str=\"\"\n",
    "    for j in range(i):\n",
    "        str=str+\"*\"\n",
    "    print(str)    "
   ]
  },
  {
   "cell_type": "code",
   "execution_count": 21,
   "metadata": {},
   "outputs": [
    {
     "name": "stdout",
     "output_type": "stream",
     "text": [
      "    *\n",
      "   **\n",
      "  ***\n",
      " ****\n",
      "*****\n"
     ]
    }
   ],
   "source": [
    "num=5\n",
    "for i in range(1,num+1):\n",
    "    str=\"\"\n",
    "    for j in range(num-i):\n",
    "        str=str+\" \"\n",
    "    for k in range(i):\n",
    "        str=str+\"*\"\n",
    "    \n",
    "    print(str)    "
   ]
  },
  {
   "cell_type": "code",
   "execution_count": 22,
   "metadata": {
    "scrolled": true
   },
   "outputs": [
    {
     "name": "stdout",
     "output_type": "stream",
     "text": [
      "     *\n",
      "    * *\n",
      "   * * *\n",
      "  * * * *\n",
      " * * * * *\n"
     ]
    }
   ],
   "source": [
    "num=5\n",
    "for i in range(1,num+1):\n",
    "    str=\"\"\n",
    "    for j in range(num-i):\n",
    "        str=str+\" \"\n",
    "    for k in range(i):\n",
    "        str=str+\" *\"\n",
    "    \n",
    "    print(str)"
   ]
  },
  {
   "cell_type": "code",
   "execution_count": 4,
   "metadata": {},
   "outputs": [
    {
     "name": "stdout",
     "output_type": "stream",
     "text": [
      "     *\n",
      "    * *\n",
      "   * * *\n",
      "  * * * *\n",
      " * * * * *\n"
     ]
    }
   ],
   "source": [
    "num=5\n",
    "for i in range(1,num+1):\n",
    "    str=\"\"\n",
    "    for j in range(num-i):\n",
    "        str=str+\" \"\n",
    "    for k in range(i):\n",
    "        str=str+\" *\"\n",
    "    \n",
    "    print(str)"
   ]
  },
  {
   "cell_type": "code",
   "execution_count": 106,
   "metadata": {},
   "outputs": [
    {
     "name": "stdout",
     "output_type": "stream",
     "text": [
      "    * \n",
      "   * * \n",
      "  * * * \n",
      " * * * * \n",
      "* * * * * \n"
     ]
    }
   ],
   "source": [
    "num=5\n",
    "for i in range(1,num+1):\n",
    "    str=\"\"\n",
    "    for j in range(num-i):\n",
    "        str=str+\" \"\n",
    "    for k in range(i):\n",
    "        str=str+\"* \"\n",
    "    print(str)    "
   ]
  },
  {
   "cell_type": "code",
   "execution_count": 12,
   "metadata": {},
   "outputs": [],
   "source": [
    "class student():\n",
    "    def __init__(self,a,b,c,d,e):\n",
    "        self.fullname=a\n",
    "        self.fathername=b\n",
    "        self.phone=c\n",
    "        self.cnic=d\n",
    "        self.address=e\n",
    "    def location(self):\n",
    "        print(self.fullname +\" lives in \"+self.address)"
   ]
  },
  {
   "cell_type": "code",
   "execution_count": 13,
   "metadata": {},
   "outputs": [],
   "source": [
    "i=student(\"imran\",\"attaullah\",\"0998987879\",\"36789889\",\"shabqaddarf\")"
   ]
  },
  {
   "cell_type": "code",
   "execution_count": 14,
   "metadata": {},
   "outputs": [
    {
     "name": "stdout",
     "output_type": "stream",
     "text": [
      "imran 0998987879\n"
     ]
    }
   ],
   "source": [
    "print(i.fullname,i.phone)"
   ]
  },
  {
   "cell_type": "code",
   "execution_count": 15,
   "metadata": {},
   "outputs": [
    {
     "name": "stdout",
     "output_type": "stream",
     "text": [
      "imran lives in shabqaddarf\n",
      "None\n"
     ]
    }
   ],
   "source": [
    "print(i.location())"
   ]
  },
  {
   "cell_type": "code",
   "execution_count": 53,
   "metadata": {},
   "outputs": [],
   "source": [
    "class education():\n",
    "    def __init__(self,a,b,c):\n",
    "        self.fullname=a\n",
    "        self.degree=b\n",
    "        self.university=c\n",
    "    def reading(self):\n",
    "        print(self.fullname, \"is reading \",self.degree,\"in\",self.university)\n",
    "        "
   ]
  },
  {
   "cell_type": "code",
   "execution_count": 54,
   "metadata": {},
   "outputs": [],
   "source": [
    "i=education(\"imranullah\",\"mcs\",\"bacha khan\")"
   ]
  },
  {
   "cell_type": "code",
   "execution_count": 56,
   "metadata": {},
   "outputs": [
    {
     "name": "stdout",
     "output_type": "stream",
     "text": [
      "imranullah mcs bacha khan\n"
     ]
    }
   ],
   "source": [
    "print(i.fullname,i.degree,i.university)"
   ]
  },
  {
   "cell_type": "code",
   "execution_count": 57,
   "metadata": {},
   "outputs": [
    {
     "name": "stdout",
     "output_type": "stream",
     "text": [
      "imranullah is reading  mcs in bacha khan\n",
      "None\n"
     ]
    }
   ],
   "source": [
    "print(i.reading())"
   ]
  },
  {
   "cell_type": "code",
   "execution_count": null,
   "metadata": {},
   "outputs": [],
   "source": []
  },
  {
   "cell_type": "code",
   "execution_count": null,
   "metadata": {},
   "outputs": [],
   "source": []
  }
 ],
 "metadata": {
  "kernelspec": {
   "display_name": "Python 3",
   "language": "python",
   "name": "python3"
  },
  "language_info": {
   "codemirror_mode": {
    "name": "ipython",
    "version": 3
   },
   "file_extension": ".py",
   "mimetype": "text/x-python",
   "name": "python",
   "nbconvert_exporter": "python",
   "pygments_lexer": "ipython3",
   "version": "3.7.4"
  }
 },
 "nbformat": 4,
 "nbformat_minor": 2
}
