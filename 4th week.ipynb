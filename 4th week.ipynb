{
 "cells": [
  {
   "cell_type": "code",
   "execution_count": 2,
   "metadata": {},
   "outputs": [],
   "source": [
    "class Encapsulation(object):\n",
    "    def __init__(self,a,b,c):\n",
    "        self.public=a\n",
    "        self._protected=b\n",
    "        self.__private=c\n",
    "    def get_private(self):\n",
    "        return self.__private        "
   ]
  },
  {
   "cell_type": "code",
   "execution_count": 3,
   "metadata": {
    "scrolled": true
   },
   "outputs": [
    {
     "data": {
      "text/plain": [
       "11"
      ]
     },
     "execution_count": 3,
     "metadata": {},
     "output_type": "execute_result"
    }
   ],
   "source": [
    "x=Encapsulation(11,13,17)\n",
    "x.public"
   ]
  },
  {
   "cell_type": "code",
   "execution_count": 4,
   "metadata": {},
   "outputs": [
    {
     "data": {
      "text/plain": [
       "13"
      ]
     },
     "execution_count": 4,
     "metadata": {},
     "output_type": "execute_result"
    }
   ],
   "source": [
    "x._protected"
   ]
  },
  {
   "cell_type": "code",
   "execution_count": 7,
   "metadata": {},
   "outputs": [
    {
     "name": "stdout",
     "output_type": "stream",
     "text": [
      "17\n"
     ]
    }
   ],
   "source": [
    "print(x.get_private())"
   ]
  },
  {
   "cell_type": "code",
   "execution_count": 1,
   "metadata": {},
   "outputs": [],
   "source": [
    "class Encapsulation(object):\n",
    "     def __init__(self,a,b,c):\n",
    "         self.k=a\n",
    "         self._m=b\n",
    "         self.__n=c\n",
    "     def get_k(self):\n",
    "         return self.k \n",
    "     def get_m(self):\n",
    "         return self._m\n",
    "     def get_n(self):\n",
    "        return self.__n "
   ]
  },
  {
   "cell_type": "code",
   "execution_count": 2,
   "metadata": {},
   "outputs": [],
   "source": [
    "x=Encapsulation(\"11\",\"12\",\"13\")"
   ]
  },
  {
   "cell_type": "code",
   "execution_count": 7,
   "metadata": {
    "scrolled": false
   },
   "outputs": [
    {
     "name": "stdout",
     "output_type": "stream",
     "text": [
      "11\n",
      "12\n",
      "13\n"
     ]
    }
   ],
   "source": [
    "print(x.get_k())\n",
    "print(x.get_m())\n",
    "print(x.get_n())\n"
   ]
  },
  {
   "cell_type": "code",
   "execution_count": 8,
   "metadata": {},
   "outputs": [],
   "source": [
    "class Encapsulation():\n",
    "    def __init__(self):\n",
    "        self._k=0\n",
    "        self._m=0\n",
    "        self.__n=0\n",
    "    def set_k(self,a):\n",
    "        self._k=a \n",
    "    def set_m(self,b):\n",
    "        self._m=b\n",
    "    def set_n(self,c):\n",
    "        self.__n=c\n",
    "    def get_k(self):\n",
    "        return self._k \n",
    "    def get_m(self):\n",
    "        return self._m\n",
    "    def get_n(self):\n",
    "        return self.__n "
   ]
  },
  {
   "cell_type": "code",
   "execution_count": 9,
   "metadata": {
    "scrolled": true
   },
   "outputs": [
    {
     "name": "stdout",
     "output_type": "stream",
     "text": [
      "11\n",
      "18\n",
      "19\n"
     ]
    }
   ],
   "source": [
    "obj=Encapsulation()\n",
    "obj.set_k(11)\n",
    "print(obj.get_k())\n",
    "obj.set_m(18)\n",
    "print(obj.get_m())\n",
    "obj.set_n(19)\n",
    "print(obj.get_n())"
   ]
  },
  {
   "cell_type": "markdown",
   "metadata": {},
   "source": [
    "# inheritance"
   ]
  },
  {
   "cell_type": "code",
   "execution_count": 10,
   "metadata": {},
   "outputs": [],
   "source": [
    "class Person(object):\n",
    "    def __init__(self):\n",
    "        self.name=\"\"\n",
    "        self.age=0\n",
    "        self.__cnic=\"\"\n",
    "        self.address=\"\"\n",
    "        self.mobileNumber=\"\"\n",
    "    def setName(self,n):\n",
    "            self.name=n\n",
    "    def getName(self):\n",
    "            return self.name\n",
    "    def setAge(self,a):\n",
    "            self.age=a\n",
    "    def getAge(self):\n",
    "            return self.age\n",
    "    def setCnic(self,c):\n",
    "            self.__cnic=c\n",
    "    def getCnic(self):\n",
    "            return self.__cnic\n",
    "    def setAddress(self,ad):\n",
    "            self.address=ad\n",
    "    def getAddress(self):\n",
    "            return self.address\n",
    "    def setMobileNumber(self,m):\n",
    "            self.mobileNumber=m\n",
    "    def getMobileNumber(self):\n",
    "            return self.mobileNumber\n",
    "        \n",
    "        "
   ]
  },
  {
   "cell_type": "code",
   "execution_count": 11,
   "metadata": {},
   "outputs": [],
   "source": [
    "class Employee(Person):\n",
    "    def _init_(self):\n",
    "        self.Designation=\"\"\n",
    "        self.salary=0\n",
    "        self.department=\"\"\n",
    "    def setDesignation(self,a):\n",
    "            self.Designation=a\n",
    "    def getDesignation(self):\n",
    "            return self.Designation\n",
    "    def setSalary(self,s):\n",
    "            self.salary=s\n",
    "    def getSalary(self):\n",
    "            return self.salary\n",
    "    def setDepartment(self,d):\n",
    "            self.department=d\n",
    "    def getDepartment(self):\n",
    "            return self.department\n",
    "                \n",
    "            "
   ]
  },
  {
   "cell_type": "code",
   "execution_count": 14,
   "metadata": {
    "scrolled": true
   },
   "outputs": [],
   "source": [
    "e= Employee()\n",
    "e.setName(\"asad\")\n",
    "e.setAge(25)\n",
    "e.setCnic(\"43544432\")\n",
    "e.setAddress(\"shabqaddar\")\n",
    "e.setMobileNumber(\"030303033\")\n",
    "e.setDepartment(\"hdshbbdbhjd\")\n",
    "e.setDesignation(\"233\")\n",
    "e.setSalary(\"234444\")"
   ]
  },
  {
   "cell_type": "code",
   "execution_count": 15,
   "metadata": {
    "scrolled": true
   },
   "outputs": [],
   "source": [
    "p=Person()\n",
    "p.setName(\"khan\")\n",
    "p.setAge(29)\n",
    "p.setCnic(\"43544432\")\n",
    "p.setAddress(\"shabqaddar bazar\")\n",
    "p.setMobileNumber(\"030303033\")"
   ]
  },
  {
   "cell_type": "code",
   "execution_count": 16,
   "metadata": {},
   "outputs": [
    {
     "name": "stdout",
     "output_type": "stream",
     "text": [
      "asad 25 43544432 shabqaddar 030303033 hdshbbdbhjd 234444 233\n"
     ]
    }
   ],
   "source": [
    "print(e.getName(),e.getAge(),e.getCnic(),\n",
    "      e.getAddress(),e.getMobileNumber(),e.getDepartment(),e.getSalary(),e.getDesignation())"
   ]
  },
  {
   "cell_type": "code",
   "execution_count": 19,
   "metadata": {},
   "outputs": [
    {
     "name": "stdout",
     "output_type": "stream",
     "text": [
      "khan 29 43544432 shabqaddar bazar 030303033\n"
     ]
    }
   ],
   "source": [
    "print(p.name,p.age,p.getCnic(),\n",
    "      p.address,p.mobileNumber)"
   ]
  },
  {
   "cell_type": "code",
   "execution_count": 1,
   "metadata": {},
   "outputs": [],
   "source": [
    "class BankAccount:\n",
    "    def __init__(self):\n",
    "        self.name=\"\"\n",
    "        self.__accountNumber=0\n",
    "        self.__pinCode=0\n",
    "        self.__balance=0.0\n",
    "    def set_name(self,n):\n",
    "        self.name=n\n",
    "    def  get_name(self):\n",
    "        return self.name\n",
    "    def set_accountNumber(self,a):\n",
    "        self.__accountNumber=a\n",
    "    def  get_accountNumber(self):\n",
    "        return self.__accountNumber\n",
    "    def set_pinCode(self,p):\n",
    "        self.__pinCode=p\n",
    "    def  get_pinCode(self):\n",
    "        return self.__pinCode\n",
    "    def set_balance(self,b):\n",
    "        self.__balance=b\n",
    "    def  get_balance(self):\n",
    "        return self.__balance\n",
    "    def display(self,accountNumber,pinCode):\n",
    "        if(self.__accountNumber==accountNumber and self.__pinCode==pinCode):\n",
    "            print(\"Bank account no \",self.__accountNumber)\n",
    "            print(\"Name :\",self.name)\n",
    "            print(\"Balance : \",self.__balance)\n",
    "        else:\n",
    "            print(\"wrong pinCode try again\")\n",
    "    def deposite(self,accountNumber,pinCode,amount):\n",
    "        if(self.__accountNumber==accountNumber and self.__pinCode==pinCode):\n",
    "            self.__balance=self.__balance+amount\n",
    "        else:\n",
    "            print(\"wrong pinCode try again\")\n",
    "    def withDraw(self,accountNumber,pinCode,amount):\n",
    "         if(self.__accountNumber==accountNumber and self.__pinCode==pinCode):\n",
    "            if(self.__balance > amount):\n",
    "                self.__balance-=amount\n",
    "                return self.display(self.__accountNumber,self.__pinCode)\n",
    "            else:\n",
    "                print(\"you have insufficient balance\")"
   ]
  },
  {
   "cell_type": "code",
   "execution_count": 2,
   "metadata": {},
   "outputs": [],
   "source": [
    "b=BankAccount()\n",
    "b.set_name(\"imranullah\")\n",
    "b.set_accountNumber(123)\n",
    "b.set_pinCode(111)\n",
    "b.set_balance(10500)"
   ]
  },
  {
   "cell_type": "code",
   "execution_count": 3,
   "metadata": {},
   "outputs": [
    {
     "name": "stdout",
     "output_type": "stream",
     "text": [
      "Bank account no  123\n",
      "Name : imranullah\n",
      "Balance :  10500\n"
     ]
    }
   ],
   "source": [
    "b.display(b.get_accountNumber(),b.get_pinCode())"
   ]
  },
  {
   "cell_type": "code",
   "execution_count": 4,
   "metadata": {},
   "outputs": [
    {
     "name": "stdout",
     "output_type": "stream",
     "text": [
      "wrong pinCode try again\n"
     ]
    }
   ],
   "source": [
    "b.deposite(\"2766\",111,1000)"
   ]
  },
  {
   "cell_type": "code",
   "execution_count": 94,
   "metadata": {},
   "outputs": [],
   "source": [
    "b.withDraw(\"123\",111,4555)"
   ]
  },
  {
   "cell_type": "code",
   "execution_count": null,
   "metadata": {},
   "outputs": [],
   "source": []
  }
 ],
 "metadata": {
  "kernelspec": {
   "display_name": "Python 3",
   "language": "python",
   "name": "python3"
  },
  "language_info": {
   "codemirror_mode": {
    "name": "ipython",
    "version": 3
   },
   "file_extension": ".py",
   "mimetype": "text/x-python",
   "name": "python",
   "nbconvert_exporter": "python",
   "pygments_lexer": "ipython3",
   "version": "3.7.4"
  }
 },
 "nbformat": 4,
 "nbformat_minor": 2
}
