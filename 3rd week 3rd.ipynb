{
 "cells": [
  {
   "cell_type": "code",
   "execution_count": 2,
   "metadata": {},
   "outputs": [
    {
     "name": "stdout",
     "output_type": "stream",
     "text": [
      "1\n",
      "12\n",
      "123\n",
      "1234\n",
      "12345\n"
     ]
    }
   ],
   "source": [
    "num=5\n",
    "str1=\"\"\n",
    "count=1\n",
    "for i in range(1,num+1):\n",
    "    str1=str1+str(count)\n",
    "    count=count+1\n",
    "    print(str1)"
   ]
  },
  {
   "cell_type": "code",
   "execution_count": 3,
   "metadata": {},
   "outputs": [
    {
     "name": "stdout",
     "output_type": "stream",
     "text": [
      "1\n",
      "12\n",
      "123\n",
      "1234\n",
      "12345\n"
     ]
    }
   ],
   "source": [
    "num=5\n",
    "for i in range(1,num+1):\n",
    "    str1=\"\"\n",
    "    for j in range(i):\n",
    "        str1=str1+str(j+1)+\"\"   \n",
    "    print(str1)"
   ]
  },
  {
   "cell_type": "code",
   "execution_count": 2,
   "metadata": {},
   "outputs": [
    {
     "name": "stdout",
     "output_type": "stream",
     "text": [
      "    1\n",
      "   12\n",
      "  123\n",
      " 1234\n",
      "12345\n"
     ]
    }
   ],
   "source": [
    "num=5\n",
    "#count=1\n",
    "for i in range(1,num+1):\n",
    "    str1=\"\"\n",
    "    for j in range(num-i):\n",
    "        str1=str1+\" \"\n",
    "    for k in range(i):\n",
    "        str1=str1+str(k+1)+\"\"\n",
    "    print(str1)\n",
    "    "
   ]
  },
  {
   "cell_type": "code",
   "execution_count": 3,
   "metadata": {},
   "outputs": [
    {
     "name": "stdout",
     "output_type": "stream",
     "text": [
      "    1 \n",
      "   1 2 \n",
      "  1 2 3 \n",
      " 1 2 3 4 \n",
      "1 2 3 4 5 \n"
     ]
    }
   ],
   "source": [
    "num=5\n",
    "for i in range(1,num+1):\n",
    "    str1=\"\"\n",
    "    for j in range(num-i):\n",
    "        str1=str1+\" \"\n",
    "    for k in range(i):\n",
    "        str1=str1+str(k+1)+\" \"\n",
    "    print(str1)"
   ]
  },
  {
   "cell_type": "code",
   "execution_count": 4,
   "metadata": {},
   "outputs": [
    {
     "name": "stdout",
     "output_type": "stream",
     "text": [
      "    2 \n",
      "   2 2 \n",
      "  2 2 2 \n",
      " 2 2 2 2 \n",
      "2 2 2 2 2 \n"
     ]
    }
   ],
   "source": [
    "num=5\n",
    "for i in range(1,num+1):\n",
    "    str1=\"\"\n",
    "    for j in range(num-i):\n",
    "        str1=str1+\" \"\n",
    "    for k in range(i):\n",
    "        str1=str1+str(2)+\" \"\n",
    "    print(str1)"
   ]
  },
  {
   "cell_type": "code",
   "execution_count": 5,
   "metadata": {},
   "outputs": [
    {
     "name": "stdout",
     "output_type": "stream",
     "text": [
      "      A \n",
      "     A B \n",
      "    A B C \n",
      "   A B C D \n",
      "  A B C D E \n",
      " A B C D E F \n",
      "A B C D E F G \n"
     ]
    }
   ],
   "source": [
    "num=7\n",
    "count=1\n",
    "for i in range(1,num+1):\n",
    "    str1=\"\"\n",
    "    for j in range(num-i):\n",
    "        str1=str1+\" \"\n",
    "    for k in range(65,65+i):\n",
    "        str1=str1+chr(k)+\" \"\n",
    "    print(str1)  "
   ]
  },
  {
   "cell_type": "code",
   "execution_count": 6,
   "metadata": {},
   "outputs": [
    {
     "name": "stdout",
     "output_type": "stream",
     "text": [
      "    A\n",
      "   AB\n",
      "  ABC\n",
      " ABCD\n",
      "ABCDE\n"
     ]
    }
   ],
   "source": [
    "num=5\n",
    "for i in range(1,num+1):\n",
    "    str1=\"\"\n",
    "    for j in range(num-i):\n",
    "        str1=str1+\" \"\n",
    "    for k in range(65,65+i):\n",
    "        str1=str1+chr(k)+\"\"\n",
    "    print(str1) "
   ]
  },
  {
   "cell_type": "code",
   "execution_count": 1,
   "metadata": {},
   "outputs": [
    {
     "name": "stdout",
     "output_type": "stream",
     "text": [
      "A\n",
      "AB\n",
      "ABC\n",
      "ABCD\n",
      "ABCDE\n"
     ]
    }
   ],
   "source": [
    "num=5\n",
    "for i in range(1,num+1):\n",
    "    str1=\"\"\n",
    "    for j in range(65,65+i):\n",
    "        str1=str1+chr(j)+\"\"\n",
    "    print(str1) "
   ]
  },
  {
   "cell_type": "code",
   "execution_count": 2,
   "metadata": {},
   "outputs": [
    {
     "name": "stdout",
     "output_type": "stream",
     "text": [
      "A \n",
      "A B \n",
      "A B C \n",
      "A B C D \n",
      "A B C D E \n",
      "A B C D E F \n",
      "A B C D E F G \n"
     ]
    }
   ],
   "source": [
    "num=7\n",
    "b=[]\n",
    "for i in range(1,num+1):\n",
    "    str1=\"\"\n",
    "    for j in range(65,65+i):\n",
    "        if j not in b:\n",
    "            b.append(i)\n",
    "        str1=str1+chr(j)+\" \"\n",
    "    print(str1) "
   ]
  },
  {
   "cell_type": "code",
   "execution_count": 26,
   "metadata": {},
   "outputs": [
    {
     "name": "stdout",
     "output_type": "stream",
     "text": [
      "      A  \n",
      "     B  C  \n",
      "    D  E  F  \n",
      "   G  H  I  J  \n",
      "  K  L  M  N  O  \n",
      " P  Q  R  S  T  U  \n",
      "V  W  X  Y  Z  [  \\  \n"
     ]
    }
   ],
   "source": [
    "num=7\n",
    "s=65\n",
    "for i in range(1,num+1):\n",
    "    str1=\"\"\n",
    "    for j in range(num-i):\n",
    "        str1=str1+\" \"\n",
    "    for k in range(65,65+i):\n",
    "        str1=str1+chr(s)+\"  \"\n",
    "        s=s+1\n",
    "    print(str1) "
   ]
  },
  {
   "cell_type": "code",
   "execution_count": 3,
   "metadata": {},
   "outputs": [],
   "source": [
    "class student:\n",
    "    def  __init__(self,n,p,a):\n",
    "        self.fullname=n\n",
    "        self.age=a\n",
    "        self.phone=p\n",
    "    def get_age(self):\n",
    "        return self.age"
   ]
  },
  {
   "cell_type": "code",
   "execution_count": 4,
   "metadata": {},
   "outputs": [],
   "source": [
    "a= student(\"imran\",2534355,25)"
   ]
  },
  {
   "cell_type": "code",
   "execution_count": 5,
   "metadata": {},
   "outputs": [
    {
     "data": {
      "text/plain": [
       "__main__.student"
      ]
     },
     "execution_count": 5,
     "metadata": {},
     "output_type": "execute_result"
    }
   ],
   "source": [
    "type(a)"
   ]
  },
  {
   "cell_type": "code",
   "execution_count": 6,
   "metadata": {},
   "outputs": [
    {
     "name": "stdout",
     "output_type": "stream",
     "text": [
      "25\n"
     ]
    }
   ],
   "source": [
    "print(a.age)"
   ]
  },
  {
   "cell_type": "code",
   "execution_count": 7,
   "metadata": {},
   "outputs": [
    {
     "name": "stdout",
     "output_type": "stream",
     "text": [
      "imran\n"
     ]
    }
   ],
   "source": [
    "print(a.fullname)"
   ]
  },
  {
   "cell_type": "code",
   "execution_count": 8,
   "metadata": {},
   "outputs": [
    {
     "name": "stdout",
     "output_type": "stream",
     "text": [
      "25\n"
     ]
    }
   ],
   "source": [
    "print(a.get_age())\n"
   ]
  },
  {
   "cell_type": "code",
   "execution_count": 9,
   "metadata": {},
   "outputs": [],
   "source": [
    "class student:\n",
    "    def __init__(self):\n",
    "        self.fullname=\"\"\n",
    "        self.age=0\n",
    "    def set_name(self,a):\n",
    "        self.fullname=a\n",
    "    def get_name(self):\n",
    "        return self.fullname\n",
    "    def set_age(self,b):\n",
    "        self.age=b\n",
    "    def get_age(self):\n",
    "        return self.age"
   ]
  },
  {
   "cell_type": "code",
   "execution_count": 10,
   "metadata": {},
   "outputs": [],
   "source": [
    "a=student()\n",
    "a.set_name(\"khan\")\n",
    "a.set_age(25)"
   ]
  },
  {
   "cell_type": "code",
   "execution_count": 11,
   "metadata": {},
   "outputs": [
    {
     "data": {
      "text/plain": [
       "'khan'"
      ]
     },
     "execution_count": 11,
     "metadata": {},
     "output_type": "execute_result"
    }
   ],
   "source": [
    "a.fullname"
   ]
  },
  {
   "cell_type": "code",
   "execution_count": 12,
   "metadata": {},
   "outputs": [
    {
     "data": {
      "text/plain": [
       "25"
      ]
     },
     "execution_count": 12,
     "metadata": {},
     "output_type": "execute_result"
    }
   ],
   "source": [
    "a.age"
   ]
  },
  {
   "cell_type": "code",
   "execution_count": 13,
   "metadata": {},
   "outputs": [
    {
     "data": {
      "text/plain": [
       "25"
      ]
     },
     "execution_count": 13,
     "metadata": {},
     "output_type": "execute_result"
    }
   ],
   "source": [
    "a.get_age()"
   ]
  },
  {
   "cell_type": "code",
   "execution_count": 14,
   "metadata": {},
   "outputs": [
    {
     "data": {
      "text/plain": [
       "'khan'"
      ]
     },
     "execution_count": 14,
     "metadata": {},
     "output_type": "execute_result"
    }
   ],
   "source": [
    "a.get_name()"
   ]
  },
  {
   "cell_type": "code",
   "execution_count": null,
   "metadata": {},
   "outputs": [],
   "source": []
  }
 ],
 "metadata": {
  "kernelspec": {
   "display_name": "Python 3",
   "language": "python",
   "name": "python3"
  },
  "language_info": {
   "codemirror_mode": {
    "name": "ipython",
    "version": 3
   },
   "file_extension": ".py",
   "mimetype": "text/x-python",
   "name": "python",
   "nbconvert_exporter": "python",
   "pygments_lexer": "ipython3",
   "version": "3.7.4"
  }
 },
 "nbformat": 4,
 "nbformat_minor": 2
}
